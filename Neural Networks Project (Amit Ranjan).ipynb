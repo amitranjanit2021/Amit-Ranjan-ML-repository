{
 "cells": [
  {
   "cell_type": "code",
   "execution_count": 47,
   "id": "05e0605a",
   "metadata": {},
   "outputs": [],
   "source": [
    "#PART A:\n",
    "\n",
    "#Step: 1A\n",
    "#Read the ‘Signals.csv’ as DataFrame and import required libraries. \n",
    "\n",
    "#importing necessary libraries.\n",
    "\n",
    "import pandas as pd\n",
    "import numpy as np\n",
    "import seaborn as sns\n",
    "\n",
    "import matplotlib\n",
    "import matplotlib.pyplot as plt\n",
    "from matplotlib.patches import Rectangle\n",
    "%matplotlib inline\n",
    "\n",
    "import tqdm\n",
    "from tqdm import tqdm_notebook\n",
    "\n",
    "import zipfile\n",
    "import os\n",
    "import math\n",
    "\n",
    "import warnings\n",
    "warnings.filterwarnings(\"ignore\")\n",
    "import cv2\n",
    "\n",
    "signals_df = pd.read_csv(\"NN Project Data - Signal.csv\")"
   ]
  },
  {
   "cell_type": "code",
   "execution_count": 2,
   "id": "926717b4",
   "metadata": {},
   "outputs": [
    {
     "data": {
      "text/plain": [
       "Parameter 1        0\n",
       "Parameter 2        0\n",
       "Parameter 3        0\n",
       "Parameter 4        0\n",
       "Parameter 5        0\n",
       "Parameter 6        0\n",
       "Parameter 7        0\n",
       "Parameter 8        0\n",
       "Parameter 9        0\n",
       "Parameter 10       0\n",
       "Parameter 11       0\n",
       "Signal_Strength    0\n",
       "dtype: int64"
      ]
     },
     "execution_count": 2,
     "metadata": {},
     "output_type": "execute_result"
    }
   ],
   "source": [
    "#Step: 1B\n",
    "#checking for missing values and print percentage for each attribute.\n",
    "\n",
    "signals_df.isnull().sum()"
   ]
  },
  {
   "cell_type": "code",
   "execution_count": 3,
   "id": "3027f546",
   "metadata": {},
   "outputs": [
    {
     "data": {
      "text/plain": [
       "(1599, 12)"
      ]
     },
     "execution_count": 3,
     "metadata": {},
     "output_type": "execute_result"
    }
   ],
   "source": [
    "signals_df.shape"
   ]
  },
  {
   "cell_type": "code",
   "execution_count": 4,
   "id": "5c08f5f4",
   "metadata": {},
   "outputs": [
    {
     "name": "stdout",
     "output_type": "stream",
     "text": [
      "<class 'pandas.core.frame.DataFrame'>\n",
      "RangeIndex: 1599 entries, 0 to 1598\n",
      "Data columns (total 12 columns):\n",
      " #   Column           Non-Null Count  Dtype  \n",
      "---  ------           --------------  -----  \n",
      " 0   Parameter 1      1599 non-null   float64\n",
      " 1   Parameter 2      1599 non-null   float64\n",
      " 2   Parameter 3      1599 non-null   float64\n",
      " 3   Parameter 4      1599 non-null   float64\n",
      " 4   Parameter 5      1599 non-null   float64\n",
      " 5   Parameter 6      1599 non-null   float64\n",
      " 6   Parameter 7      1599 non-null   float64\n",
      " 7   Parameter 8      1599 non-null   float64\n",
      " 8   Parameter 9      1599 non-null   float64\n",
      " 9   Parameter 10     1599 non-null   float64\n",
      " 10  Parameter 11     1599 non-null   float64\n",
      " 11  Signal_Strength  1599 non-null   int64  \n",
      "dtypes: float64(11), int64(1)\n",
      "memory usage: 150.0 KB\n"
     ]
    }
   ],
   "source": [
    "signals_df.info()"
   ]
  },
  {
   "cell_type": "code",
   "execution_count": 5,
   "id": "9ff0cb26",
   "metadata": {},
   "outputs": [
    {
     "data": {
      "text/plain": [
       "Parameter 1        float64\n",
       "Parameter 2        float64\n",
       "Parameter 3        float64\n",
       "Parameter 4        float64\n",
       "Parameter 5        float64\n",
       "Parameter 6        float64\n",
       "Parameter 7        float64\n",
       "Parameter 8        float64\n",
       "Parameter 9        float64\n",
       "Parameter 10       float64\n",
       "Parameter 11       float64\n",
       "Signal_Strength      int64\n",
       "dtype: object"
      ]
     },
     "execution_count": 5,
     "metadata": {},
     "output_type": "execute_result"
    }
   ],
   "source": [
    "signals_df.dtypes"
   ]
  },
  {
   "cell_type": "code",
   "execution_count": 6,
   "id": "9319a3e2",
   "metadata": {},
   "outputs": [
    {
     "data": {
      "text/plain": [
       "1599"
      ]
     },
     "execution_count": 6,
     "metadata": {},
     "output_type": "execute_result"
    }
   ],
   "source": [
    "len(signals_df)"
   ]
  },
  {
   "cell_type": "code",
   "execution_count": 7,
   "id": "6ddcd30e",
   "metadata": {},
   "outputs": [
    {
     "name": "stdout",
     "output_type": "stream",
     "text": [
      "Parameter 1        0.0\n",
      "Parameter 2        0.0\n",
      "Parameter 3        0.0\n",
      "Parameter 4        0.0\n",
      "Parameter 5        0.0\n",
      "Parameter 6        0.0\n",
      "Parameter 7        0.0\n",
      "Parameter 8        0.0\n",
      "Parameter 9        0.0\n",
      "Parameter 10       0.0\n",
      "Parameter 11       0.0\n",
      "Signal_Strength    0.0\n",
      "dtype: float64\n"
     ]
    }
   ],
   "source": [
    "attr_per_null = signals_df.isnull().sum() * 100 / len(signals_df)\n",
    "print(attr_per_null)"
   ]
  },
  {
   "cell_type": "code",
   "execution_count": 8,
   "id": "0536c045",
   "metadata": {},
   "outputs": [],
   "source": [
    "#Observation: Here, we observe that there are no null values present in any of the attributes/columns in dataset."
   ]
  },
  {
   "cell_type": "code",
   "execution_count": 9,
   "id": "1063226b",
   "metadata": {},
   "outputs": [
    {
     "data": {
      "text/plain": [
       "0       False\n",
       "1       False\n",
       "2       False\n",
       "3       False\n",
       "4        True\n",
       "        ...  \n",
       "1594    False\n",
       "1595    False\n",
       "1596     True\n",
       "1597    False\n",
       "1598    False\n",
       "Length: 1599, dtype: bool"
      ]
     },
     "execution_count": 9,
     "metadata": {},
     "output_type": "execute_result"
    }
   ],
   "source": [
    "#Step: 1C\n",
    "#Checking for presence of duplicate records in the dataset and impute with appropriate method.\n",
    "\n",
    "signals_df.duplicated()"
   ]
  },
  {
   "cell_type": "code",
   "execution_count": 10,
   "id": "54eb60dc",
   "metadata": {},
   "outputs": [
    {
     "data": {
      "text/plain": [
       "240"
      ]
     },
     "execution_count": 10,
     "metadata": {},
     "output_type": "execute_result"
    }
   ],
   "source": [
    "signals_df.duplicated().sum()"
   ]
  },
  {
   "cell_type": "code",
   "execution_count": 11,
   "id": "42877b6d",
   "metadata": {},
   "outputs": [
    {
     "data": {
      "text/html": [
       "<div>\n",
       "<style scoped>\n",
       "    .dataframe tbody tr th:only-of-type {\n",
       "        vertical-align: middle;\n",
       "    }\n",
       "\n",
       "    .dataframe tbody tr th {\n",
       "        vertical-align: top;\n",
       "    }\n",
       "\n",
       "    .dataframe thead th {\n",
       "        text-align: right;\n",
       "    }\n",
       "</style>\n",
       "<table border=\"1\" class=\"dataframe\">\n",
       "  <thead>\n",
       "    <tr style=\"text-align: right;\">\n",
       "      <th></th>\n",
       "      <th>Parameter 1</th>\n",
       "      <th>Parameter 2</th>\n",
       "      <th>Parameter 3</th>\n",
       "      <th>Parameter 4</th>\n",
       "      <th>Parameter 5</th>\n",
       "      <th>Parameter 6</th>\n",
       "      <th>Parameter 7</th>\n",
       "      <th>Parameter 8</th>\n",
       "      <th>Parameter 9</th>\n",
       "      <th>Parameter 10</th>\n",
       "      <th>Parameter 11</th>\n",
       "      <th>Signal_Strength</th>\n",
       "    </tr>\n",
       "  </thead>\n",
       "  <tbody>\n",
       "    <tr>\n",
       "      <th>4</th>\n",
       "      <td>7.4</td>\n",
       "      <td>0.700</td>\n",
       "      <td>0.00</td>\n",
       "      <td>1.90</td>\n",
       "      <td>0.076</td>\n",
       "      <td>11.0</td>\n",
       "      <td>34.0</td>\n",
       "      <td>0.99780</td>\n",
       "      <td>3.51</td>\n",
       "      <td>0.56</td>\n",
       "      <td>9.4</td>\n",
       "      <td>5</td>\n",
       "    </tr>\n",
       "    <tr>\n",
       "      <th>11</th>\n",
       "      <td>7.5</td>\n",
       "      <td>0.500</td>\n",
       "      <td>0.36</td>\n",
       "      <td>6.10</td>\n",
       "      <td>0.071</td>\n",
       "      <td>17.0</td>\n",
       "      <td>102.0</td>\n",
       "      <td>0.99780</td>\n",
       "      <td>3.35</td>\n",
       "      <td>0.80</td>\n",
       "      <td>10.5</td>\n",
       "      <td>5</td>\n",
       "    </tr>\n",
       "    <tr>\n",
       "      <th>27</th>\n",
       "      <td>7.9</td>\n",
       "      <td>0.430</td>\n",
       "      <td>0.21</td>\n",
       "      <td>1.60</td>\n",
       "      <td>0.106</td>\n",
       "      <td>10.0</td>\n",
       "      <td>37.0</td>\n",
       "      <td>0.99660</td>\n",
       "      <td>3.17</td>\n",
       "      <td>0.91</td>\n",
       "      <td>9.5</td>\n",
       "      <td>5</td>\n",
       "    </tr>\n",
       "    <tr>\n",
       "      <th>40</th>\n",
       "      <td>7.3</td>\n",
       "      <td>0.450</td>\n",
       "      <td>0.36</td>\n",
       "      <td>5.90</td>\n",
       "      <td>0.074</td>\n",
       "      <td>12.0</td>\n",
       "      <td>87.0</td>\n",
       "      <td>0.99780</td>\n",
       "      <td>3.33</td>\n",
       "      <td>0.83</td>\n",
       "      <td>10.5</td>\n",
       "      <td>5</td>\n",
       "    </tr>\n",
       "    <tr>\n",
       "      <th>65</th>\n",
       "      <td>7.2</td>\n",
       "      <td>0.725</td>\n",
       "      <td>0.05</td>\n",
       "      <td>4.65</td>\n",
       "      <td>0.086</td>\n",
       "      <td>4.0</td>\n",
       "      <td>11.0</td>\n",
       "      <td>0.99620</td>\n",
       "      <td>3.41</td>\n",
       "      <td>0.39</td>\n",
       "      <td>10.9</td>\n",
       "      <td>5</td>\n",
       "    </tr>\n",
       "    <tr>\n",
       "      <th>...</th>\n",
       "      <td>...</td>\n",
       "      <td>...</td>\n",
       "      <td>...</td>\n",
       "      <td>...</td>\n",
       "      <td>...</td>\n",
       "      <td>...</td>\n",
       "      <td>...</td>\n",
       "      <td>...</td>\n",
       "      <td>...</td>\n",
       "      <td>...</td>\n",
       "      <td>...</td>\n",
       "      <td>...</td>\n",
       "    </tr>\n",
       "    <tr>\n",
       "      <th>1563</th>\n",
       "      <td>7.2</td>\n",
       "      <td>0.695</td>\n",
       "      <td>0.13</td>\n",
       "      <td>2.00</td>\n",
       "      <td>0.076</td>\n",
       "      <td>12.0</td>\n",
       "      <td>20.0</td>\n",
       "      <td>0.99546</td>\n",
       "      <td>3.29</td>\n",
       "      <td>0.54</td>\n",
       "      <td>10.1</td>\n",
       "      <td>5</td>\n",
       "    </tr>\n",
       "    <tr>\n",
       "      <th>1564</th>\n",
       "      <td>7.2</td>\n",
       "      <td>0.695</td>\n",
       "      <td>0.13</td>\n",
       "      <td>2.00</td>\n",
       "      <td>0.076</td>\n",
       "      <td>12.0</td>\n",
       "      <td>20.0</td>\n",
       "      <td>0.99546</td>\n",
       "      <td>3.29</td>\n",
       "      <td>0.54</td>\n",
       "      <td>10.1</td>\n",
       "      <td>5</td>\n",
       "    </tr>\n",
       "    <tr>\n",
       "      <th>1567</th>\n",
       "      <td>7.2</td>\n",
       "      <td>0.695</td>\n",
       "      <td>0.13</td>\n",
       "      <td>2.00</td>\n",
       "      <td>0.076</td>\n",
       "      <td>12.0</td>\n",
       "      <td>20.0</td>\n",
       "      <td>0.99546</td>\n",
       "      <td>3.29</td>\n",
       "      <td>0.54</td>\n",
       "      <td>10.1</td>\n",
       "      <td>5</td>\n",
       "    </tr>\n",
       "    <tr>\n",
       "      <th>1581</th>\n",
       "      <td>6.2</td>\n",
       "      <td>0.560</td>\n",
       "      <td>0.09</td>\n",
       "      <td>1.70</td>\n",
       "      <td>0.053</td>\n",
       "      <td>24.0</td>\n",
       "      <td>32.0</td>\n",
       "      <td>0.99402</td>\n",
       "      <td>3.54</td>\n",
       "      <td>0.60</td>\n",
       "      <td>11.3</td>\n",
       "      <td>5</td>\n",
       "    </tr>\n",
       "    <tr>\n",
       "      <th>1596</th>\n",
       "      <td>6.3</td>\n",
       "      <td>0.510</td>\n",
       "      <td>0.13</td>\n",
       "      <td>2.30</td>\n",
       "      <td>0.076</td>\n",
       "      <td>29.0</td>\n",
       "      <td>40.0</td>\n",
       "      <td>0.99574</td>\n",
       "      <td>3.42</td>\n",
       "      <td>0.75</td>\n",
       "      <td>11.0</td>\n",
       "      <td>6</td>\n",
       "    </tr>\n",
       "  </tbody>\n",
       "</table>\n",
       "<p>240 rows × 12 columns</p>\n",
       "</div>"
      ],
      "text/plain": [
       "      Parameter 1  Parameter 2  Parameter 3  Parameter 4  Parameter 5  \\\n",
       "4             7.4        0.700         0.00         1.90        0.076   \n",
       "11            7.5        0.500         0.36         6.10        0.071   \n",
       "27            7.9        0.430         0.21         1.60        0.106   \n",
       "40            7.3        0.450         0.36         5.90        0.074   \n",
       "65            7.2        0.725         0.05         4.65        0.086   \n",
       "...           ...          ...          ...          ...          ...   \n",
       "1563          7.2        0.695         0.13         2.00        0.076   \n",
       "1564          7.2        0.695         0.13         2.00        0.076   \n",
       "1567          7.2        0.695         0.13         2.00        0.076   \n",
       "1581          6.2        0.560         0.09         1.70        0.053   \n",
       "1596          6.3        0.510         0.13         2.30        0.076   \n",
       "\n",
       "      Parameter 6  Parameter 7  Parameter 8  Parameter 9  Parameter 10  \\\n",
       "4            11.0         34.0      0.99780         3.51          0.56   \n",
       "11           17.0        102.0      0.99780         3.35          0.80   \n",
       "27           10.0         37.0      0.99660         3.17          0.91   \n",
       "40           12.0         87.0      0.99780         3.33          0.83   \n",
       "65            4.0         11.0      0.99620         3.41          0.39   \n",
       "...           ...          ...          ...          ...           ...   \n",
       "1563         12.0         20.0      0.99546         3.29          0.54   \n",
       "1564         12.0         20.0      0.99546         3.29          0.54   \n",
       "1567         12.0         20.0      0.99546         3.29          0.54   \n",
       "1581         24.0         32.0      0.99402         3.54          0.60   \n",
       "1596         29.0         40.0      0.99574         3.42          0.75   \n",
       "\n",
       "      Parameter 11  Signal_Strength  \n",
       "4              9.4                5  \n",
       "11            10.5                5  \n",
       "27             9.5                5  \n",
       "40            10.5                5  \n",
       "65            10.9                5  \n",
       "...            ...              ...  \n",
       "1563          10.1                5  \n",
       "1564          10.1                5  \n",
       "1567          10.1                5  \n",
       "1581          11.3                5  \n",
       "1596          11.0                6  \n",
       "\n",
       "[240 rows x 12 columns]"
      ]
     },
     "execution_count": 11,
     "metadata": {},
     "output_type": "execute_result"
    }
   ],
   "source": [
    "signals_df.loc[signals_df.duplicated(),:]"
   ]
  },
  {
   "cell_type": "code",
   "execution_count": 12,
   "id": "c64b9a5b",
   "metadata": {},
   "outputs": [
    {
     "data": {
      "text/plain": [
       "(1599, 12)"
      ]
     },
     "execution_count": 12,
     "metadata": {},
     "output_type": "execute_result"
    }
   ],
   "source": [
    "signals_df.shape"
   ]
  },
  {
   "cell_type": "code",
   "execution_count": 13,
   "id": "a8a4a47a",
   "metadata": {},
   "outputs": [],
   "source": [
    "#Observation: From the above analysis, we observe that there are 240 duplicate rows present in the dataset.\n",
    "# We will drop these duplicate rows as the duplicate rows gives the same information as the other in a dataset\n",
    "# which will not be useful to keep as the duplicate rows are of no use to be kept in the dataset as they\n",
    "# are providing the same information again."
   ]
  },
  {
   "cell_type": "code",
   "execution_count": 14,
   "id": "f1be61e1",
   "metadata": {},
   "outputs": [],
   "source": [
    "signals_df.drop_duplicates(inplace=True)"
   ]
  },
  {
   "cell_type": "code",
   "execution_count": 15,
   "id": "d5b3d1dc",
   "metadata": {},
   "outputs": [
    {
     "data": {
      "text/plain": [
       "0"
      ]
     },
     "execution_count": 15,
     "metadata": {},
     "output_type": "execute_result"
    }
   ],
   "source": [
    "signals_df.duplicated().sum()"
   ]
  },
  {
   "cell_type": "code",
   "execution_count": 16,
   "id": "6cba1c27",
   "metadata": {},
   "outputs": [
    {
     "data": {
      "text/plain": [
       "(1359, 12)"
      ]
     },
     "execution_count": 16,
     "metadata": {},
     "output_type": "execute_result"
    }
   ],
   "source": [
    "signals_df.shape"
   ]
  },
  {
   "cell_type": "code",
   "execution_count": 17,
   "id": "89285134",
   "metadata": {},
   "outputs": [],
   "source": [
    "#Observation: Here, we can see that there are no duplicates present after dropping the duplicates from the original\n",
    "# dataframe. The total rows shown by the shape function shows total 1359 rows present after removing 240 duplicate rows.\n",
    "#Total columns present are 12 in numbers."
   ]
  },
  {
   "cell_type": "code",
   "execution_count": 18,
   "id": "db4d6886",
   "metadata": {},
   "outputs": [],
   "source": [
    "#resetting the index after removing the duplicated rows from the dataset.\n",
    "signals_df.reset_index(inplace=True)"
   ]
  },
  {
   "cell_type": "code",
   "execution_count": 19,
   "id": "75a3feb1",
   "metadata": {},
   "outputs": [
    {
     "data": {
      "text/html": [
       "<div>\n",
       "<style scoped>\n",
       "    .dataframe tbody tr th:only-of-type {\n",
       "        vertical-align: middle;\n",
       "    }\n",
       "\n",
       "    .dataframe tbody tr th {\n",
       "        vertical-align: top;\n",
       "    }\n",
       "\n",
       "    .dataframe thead th {\n",
       "        text-align: right;\n",
       "    }\n",
       "</style>\n",
       "<table border=\"1\" class=\"dataframe\">\n",
       "  <thead>\n",
       "    <tr style=\"text-align: right;\">\n",
       "      <th></th>\n",
       "      <th>index</th>\n",
       "      <th>Parameter 1</th>\n",
       "      <th>Parameter 2</th>\n",
       "      <th>Parameter 3</th>\n",
       "      <th>Parameter 4</th>\n",
       "      <th>Parameter 5</th>\n",
       "      <th>Parameter 6</th>\n",
       "      <th>Parameter 7</th>\n",
       "      <th>Parameter 8</th>\n",
       "      <th>Parameter 9</th>\n",
       "      <th>Parameter 10</th>\n",
       "      <th>Parameter 11</th>\n",
       "      <th>Signal_Strength</th>\n",
       "    </tr>\n",
       "  </thead>\n",
       "  <tbody>\n",
       "    <tr>\n",
       "      <th>0</th>\n",
       "      <td>0</td>\n",
       "      <td>7.4</td>\n",
       "      <td>0.70</td>\n",
       "      <td>0.00</td>\n",
       "      <td>1.9</td>\n",
       "      <td>0.076</td>\n",
       "      <td>11.0</td>\n",
       "      <td>34.0</td>\n",
       "      <td>0.9978</td>\n",
       "      <td>3.51</td>\n",
       "      <td>0.56</td>\n",
       "      <td>9.4</td>\n",
       "      <td>5</td>\n",
       "    </tr>\n",
       "    <tr>\n",
       "      <th>1</th>\n",
       "      <td>1</td>\n",
       "      <td>7.8</td>\n",
       "      <td>0.88</td>\n",
       "      <td>0.00</td>\n",
       "      <td>2.6</td>\n",
       "      <td>0.098</td>\n",
       "      <td>25.0</td>\n",
       "      <td>67.0</td>\n",
       "      <td>0.9968</td>\n",
       "      <td>3.20</td>\n",
       "      <td>0.68</td>\n",
       "      <td>9.8</td>\n",
       "      <td>5</td>\n",
       "    </tr>\n",
       "    <tr>\n",
       "      <th>2</th>\n",
       "      <td>2</td>\n",
       "      <td>7.8</td>\n",
       "      <td>0.76</td>\n",
       "      <td>0.04</td>\n",
       "      <td>2.3</td>\n",
       "      <td>0.092</td>\n",
       "      <td>15.0</td>\n",
       "      <td>54.0</td>\n",
       "      <td>0.9970</td>\n",
       "      <td>3.26</td>\n",
       "      <td>0.65</td>\n",
       "      <td>9.8</td>\n",
       "      <td>5</td>\n",
       "    </tr>\n",
       "    <tr>\n",
       "      <th>3</th>\n",
       "      <td>3</td>\n",
       "      <td>11.2</td>\n",
       "      <td>0.28</td>\n",
       "      <td>0.56</td>\n",
       "      <td>1.9</td>\n",
       "      <td>0.075</td>\n",
       "      <td>17.0</td>\n",
       "      <td>60.0</td>\n",
       "      <td>0.9980</td>\n",
       "      <td>3.16</td>\n",
       "      <td>0.58</td>\n",
       "      <td>9.8</td>\n",
       "      <td>6</td>\n",
       "    </tr>\n",
       "    <tr>\n",
       "      <th>4</th>\n",
       "      <td>5</td>\n",
       "      <td>7.4</td>\n",
       "      <td>0.66</td>\n",
       "      <td>0.00</td>\n",
       "      <td>1.8</td>\n",
       "      <td>0.075</td>\n",
       "      <td>13.0</td>\n",
       "      <td>40.0</td>\n",
       "      <td>0.9978</td>\n",
       "      <td>3.51</td>\n",
       "      <td>0.56</td>\n",
       "      <td>9.4</td>\n",
       "      <td>5</td>\n",
       "    </tr>\n",
       "  </tbody>\n",
       "</table>\n",
       "</div>"
      ],
      "text/plain": [
       "   index  Parameter 1  Parameter 2  Parameter 3  Parameter 4  Parameter 5  \\\n",
       "0      0          7.4         0.70         0.00          1.9        0.076   \n",
       "1      1          7.8         0.88         0.00          2.6        0.098   \n",
       "2      2          7.8         0.76         0.04          2.3        0.092   \n",
       "3      3         11.2         0.28         0.56          1.9        0.075   \n",
       "4      5          7.4         0.66         0.00          1.8        0.075   \n",
       "\n",
       "   Parameter 6  Parameter 7  Parameter 8  Parameter 9  Parameter 10  \\\n",
       "0         11.0         34.0       0.9978         3.51          0.56   \n",
       "1         25.0         67.0       0.9968         3.20          0.68   \n",
       "2         15.0         54.0       0.9970         3.26          0.65   \n",
       "3         17.0         60.0       0.9980         3.16          0.58   \n",
       "4         13.0         40.0       0.9978         3.51          0.56   \n",
       "\n",
       "   Parameter 11  Signal_Strength  \n",
       "0           9.4                5  \n",
       "1           9.8                5  \n",
       "2           9.8                5  \n",
       "3           9.8                6  \n",
       "4           9.4                5  "
      ]
     },
     "execution_count": 19,
     "metadata": {},
     "output_type": "execute_result"
    }
   ],
   "source": [
    "signals_df.head()"
   ]
  },
  {
   "cell_type": "code",
   "execution_count": 20,
   "id": "964899e8",
   "metadata": {},
   "outputs": [
    {
     "data": {
      "text/html": [
       "<div>\n",
       "<style scoped>\n",
       "    .dataframe tbody tr th:only-of-type {\n",
       "        vertical-align: middle;\n",
       "    }\n",
       "\n",
       "    .dataframe tbody tr th {\n",
       "        vertical-align: top;\n",
       "    }\n",
       "\n",
       "    .dataframe thead th {\n",
       "        text-align: right;\n",
       "    }\n",
       "</style>\n",
       "<table border=\"1\" class=\"dataframe\">\n",
       "  <thead>\n",
       "    <tr style=\"text-align: right;\">\n",
       "      <th></th>\n",
       "      <th>index</th>\n",
       "      <th>Parameter 1</th>\n",
       "      <th>Parameter 2</th>\n",
       "      <th>Parameter 3</th>\n",
       "      <th>Parameter 4</th>\n",
       "      <th>Parameter 5</th>\n",
       "      <th>Parameter 6</th>\n",
       "      <th>Parameter 7</th>\n",
       "      <th>Parameter 8</th>\n",
       "      <th>Parameter 9</th>\n",
       "      <th>Parameter 10</th>\n",
       "      <th>Parameter 11</th>\n",
       "      <th>Signal_Strength</th>\n",
       "    </tr>\n",
       "  </thead>\n",
       "  <tbody>\n",
       "    <tr>\n",
       "      <th>1354</th>\n",
       "      <td>1593</td>\n",
       "      <td>6.8</td>\n",
       "      <td>0.620</td>\n",
       "      <td>0.08</td>\n",
       "      <td>1.9</td>\n",
       "      <td>0.068</td>\n",
       "      <td>28.0</td>\n",
       "      <td>38.0</td>\n",
       "      <td>0.99651</td>\n",
       "      <td>3.42</td>\n",
       "      <td>0.82</td>\n",
       "      <td>9.5</td>\n",
       "      <td>6</td>\n",
       "    </tr>\n",
       "    <tr>\n",
       "      <th>1355</th>\n",
       "      <td>1594</td>\n",
       "      <td>6.2</td>\n",
       "      <td>0.600</td>\n",
       "      <td>0.08</td>\n",
       "      <td>2.0</td>\n",
       "      <td>0.090</td>\n",
       "      <td>32.0</td>\n",
       "      <td>44.0</td>\n",
       "      <td>0.99490</td>\n",
       "      <td>3.45</td>\n",
       "      <td>0.58</td>\n",
       "      <td>10.5</td>\n",
       "      <td>5</td>\n",
       "    </tr>\n",
       "    <tr>\n",
       "      <th>1356</th>\n",
       "      <td>1595</td>\n",
       "      <td>5.9</td>\n",
       "      <td>0.550</td>\n",
       "      <td>0.10</td>\n",
       "      <td>2.2</td>\n",
       "      <td>0.062</td>\n",
       "      <td>39.0</td>\n",
       "      <td>51.0</td>\n",
       "      <td>0.99512</td>\n",
       "      <td>3.52</td>\n",
       "      <td>0.76</td>\n",
       "      <td>11.2</td>\n",
       "      <td>6</td>\n",
       "    </tr>\n",
       "    <tr>\n",
       "      <th>1357</th>\n",
       "      <td>1597</td>\n",
       "      <td>5.9</td>\n",
       "      <td>0.645</td>\n",
       "      <td>0.12</td>\n",
       "      <td>2.0</td>\n",
       "      <td>0.075</td>\n",
       "      <td>32.0</td>\n",
       "      <td>44.0</td>\n",
       "      <td>0.99547</td>\n",
       "      <td>3.57</td>\n",
       "      <td>0.71</td>\n",
       "      <td>10.2</td>\n",
       "      <td>5</td>\n",
       "    </tr>\n",
       "    <tr>\n",
       "      <th>1358</th>\n",
       "      <td>1598</td>\n",
       "      <td>6.0</td>\n",
       "      <td>0.310</td>\n",
       "      <td>0.47</td>\n",
       "      <td>3.6</td>\n",
       "      <td>0.067</td>\n",
       "      <td>18.0</td>\n",
       "      <td>42.0</td>\n",
       "      <td>0.99549</td>\n",
       "      <td>3.39</td>\n",
       "      <td>0.66</td>\n",
       "      <td>11.0</td>\n",
       "      <td>6</td>\n",
       "    </tr>\n",
       "  </tbody>\n",
       "</table>\n",
       "</div>"
      ],
      "text/plain": [
       "      index  Parameter 1  Parameter 2  Parameter 3  Parameter 4  Parameter 5  \\\n",
       "1354   1593          6.8        0.620         0.08          1.9        0.068   \n",
       "1355   1594          6.2        0.600         0.08          2.0        0.090   \n",
       "1356   1595          5.9        0.550         0.10          2.2        0.062   \n",
       "1357   1597          5.9        0.645         0.12          2.0        0.075   \n",
       "1358   1598          6.0        0.310         0.47          3.6        0.067   \n",
       "\n",
       "      Parameter 6  Parameter 7  Parameter 8  Parameter 9  Parameter 10  \\\n",
       "1354         28.0         38.0      0.99651         3.42          0.82   \n",
       "1355         32.0         44.0      0.99490         3.45          0.58   \n",
       "1356         39.0         51.0      0.99512         3.52          0.76   \n",
       "1357         32.0         44.0      0.99547         3.57          0.71   \n",
       "1358         18.0         42.0      0.99549         3.39          0.66   \n",
       "\n",
       "      Parameter 11  Signal_Strength  \n",
       "1354           9.5                6  \n",
       "1355          10.5                5  \n",
       "1356          11.2                6  \n",
       "1357          10.2                5  \n",
       "1358          11.0                6  "
      ]
     },
     "execution_count": 20,
     "metadata": {},
     "output_type": "execute_result"
    }
   ],
   "source": [
    "signals_df.tail()"
   ]
  },
  {
   "cell_type": "code",
   "execution_count": 21,
   "id": "7bb526d0",
   "metadata": {},
   "outputs": [
    {
     "data": {
      "text/plain": [
       "<seaborn.axisgrid.FacetGrid at 0x1831369e140>"
      ]
     },
     "execution_count": 21,
     "metadata": {},
     "output_type": "execute_result"
    },
    {
     "data": {
      "image/png": "[encoded data removed]",
      "text/plain": [
       "<Figure size 800x400 with 1 Axes>"
      ]
     },
     "metadata": {},
     "output_type": "display_data"
    }
   ],
   "source": [
    "#Step: 1D\n",
    "#Visualise distribution of the target variable.\n",
    "\n",
    "\n",
    "sns.displot(signals_df['Signal_Strength'],color='blue', kde=False, bins=6, height=4, aspect=2)"
   ]
  },
  {
   "cell_type": "code",
   "execution_count": 22,
   "id": "5e6de3b3",
   "metadata": {},
   "outputs": [],
   "source": [
    "#Step: 1E\n",
    "#Sharing insights from the initial data analysis.\n",
    "\n",
    "#Observation: dropping the column index from the dataset.\n",
    "\n",
    "signals_df.drop(['index'], axis=1, inplace=True)"
   ]
  },
  {
   "cell_type": "code",
   "execution_count": 23,
   "id": "18f08fa3",
   "metadata": {},
   "outputs": [
    {
     "data": {
      "text/plain": [
       "(1359, 12)"
      ]
     },
     "execution_count": 23,
     "metadata": {},
     "output_type": "execute_result"
    }
   ],
   "source": [
    "signals_df.shape"
   ]
  },
  {
   "cell_type": "code",
   "execution_count": 24,
   "id": "1e0549fc",
   "metadata": {},
   "outputs": [
    {
     "data": {
      "text/html": [
       "<div>\n",
       "<style scoped>\n",
       "    .dataframe tbody tr th:only-of-type {\n",
       "        vertical-align: middle;\n",
       "    }\n",
       "\n",
       "    .dataframe tbody tr th {\n",
       "        vertical-align: top;\n",
       "    }\n",
       "\n",
       "    .dataframe thead th {\n",
       "        text-align: right;\n",
       "    }\n",
       "</style>\n",
       "<table border=\"1\" class=\"dataframe\">\n",
       "  <thead>\n",
       "    <tr style=\"text-align: right;\">\n",
       "      <th></th>\n",
       "      <th>Parameter 1</th>\n",
       "      <th>Parameter 2</th>\n",
       "      <th>Parameter 3</th>\n",
       "      <th>Parameter 4</th>\n",
       "      <th>Parameter 5</th>\n",
       "      <th>Parameter 6</th>\n",
       "      <th>Parameter 7</th>\n",
       "      <th>Parameter 8</th>\n",
       "      <th>Parameter 9</th>\n",
       "      <th>Parameter 10</th>\n",
       "      <th>Parameter 11</th>\n",
       "      <th>Signal_Strength</th>\n",
       "    </tr>\n",
       "  </thead>\n",
       "  <tbody>\n",
       "    <tr>\n",
       "      <th>0</th>\n",
       "      <td>7.4</td>\n",
       "      <td>0.70</td>\n",
       "      <td>0.00</td>\n",
       "      <td>1.9</td>\n",
       "      <td>0.076</td>\n",
       "      <td>11.0</td>\n",
       "      <td>34.0</td>\n",
       "      <td>0.9978</td>\n",
       "      <td>3.51</td>\n",
       "      <td>0.56</td>\n",
       "      <td>9.4</td>\n",
       "      <td>5</td>\n",
       "    </tr>\n",
       "    <tr>\n",
       "      <th>1</th>\n",
       "      <td>7.8</td>\n",
       "      <td>0.88</td>\n",
       "      <td>0.00</td>\n",
       "      <td>2.6</td>\n",
       "      <td>0.098</td>\n",
       "      <td>25.0</td>\n",
       "      <td>67.0</td>\n",
       "      <td>0.9968</td>\n",
       "      <td>3.20</td>\n",
       "      <td>0.68</td>\n",
       "      <td>9.8</td>\n",
       "      <td>5</td>\n",
       "    </tr>\n",
       "    <tr>\n",
       "      <th>2</th>\n",
       "      <td>7.8</td>\n",
       "      <td>0.76</td>\n",
       "      <td>0.04</td>\n",
       "      <td>2.3</td>\n",
       "      <td>0.092</td>\n",
       "      <td>15.0</td>\n",
       "      <td>54.0</td>\n",
       "      <td>0.9970</td>\n",
       "      <td>3.26</td>\n",
       "      <td>0.65</td>\n",
       "      <td>9.8</td>\n",
       "      <td>5</td>\n",
       "    </tr>\n",
       "    <tr>\n",
       "      <th>3</th>\n",
       "      <td>11.2</td>\n",
       "      <td>0.28</td>\n",
       "      <td>0.56</td>\n",
       "      <td>1.9</td>\n",
       "      <td>0.075</td>\n",
       "      <td>17.0</td>\n",
       "      <td>60.0</td>\n",
       "      <td>0.9980</td>\n",
       "      <td>3.16</td>\n",
       "      <td>0.58</td>\n",
       "      <td>9.8</td>\n",
       "      <td>6</td>\n",
       "    </tr>\n",
       "    <tr>\n",
       "      <th>4</th>\n",
       "      <td>7.4</td>\n",
       "      <td>0.66</td>\n",
       "      <td>0.00</td>\n",
       "      <td>1.8</td>\n",
       "      <td>0.075</td>\n",
       "      <td>13.0</td>\n",
       "      <td>40.0</td>\n",
       "      <td>0.9978</td>\n",
       "      <td>3.51</td>\n",
       "      <td>0.56</td>\n",
       "      <td>9.4</td>\n",
       "      <td>5</td>\n",
       "    </tr>\n",
       "  </tbody>\n",
       "</table>\n",
       "</div>"
      ],
      "text/plain": [
       "   Parameter 1  Parameter 2  Parameter 3  Parameter 4  Parameter 5  \\\n",
       "0          7.4         0.70         0.00          1.9        0.076   \n",
       "1          7.8         0.88         0.00          2.6        0.098   \n",
       "2          7.8         0.76         0.04          2.3        0.092   \n",
       "3         11.2         0.28         0.56          1.9        0.075   \n",
       "4          7.4         0.66         0.00          1.8        0.075   \n",
       "\n",
       "   Parameter 6  Parameter 7  Parameter 8  Parameter 9  Parameter 10  \\\n",
       "0         11.0         34.0       0.9978         3.51          0.56   \n",
       "1         25.0         67.0       0.9968         3.20          0.68   \n",
       "2         15.0         54.0       0.9970         3.26          0.65   \n",
       "3         17.0         60.0       0.9980         3.16          0.58   \n",
       "4         13.0         40.0       0.9978         3.51          0.56   \n",
       "\n",
       "   Parameter 11  Signal_Strength  \n",
       "0           9.4                5  \n",
       "1           9.8                5  \n",
       "2           9.8                5  \n",
       "3           9.8                6  \n",
       "4           9.4                5  "
      ]
     },
     "execution_count": 24,
     "metadata": {},
     "output_type": "execute_result"
    }
   ],
   "source": [
    "signals_df.head()"
   ]
  },
  {
   "cell_type": "code",
   "execution_count": 25,
   "id": "7be68cdf",
   "metadata": {},
   "outputs": [
    {
     "data": {
      "text/html": [
       "<div>\n",
       "<style scoped>\n",
       "    .dataframe tbody tr th:only-of-type {\n",
       "        vertical-align: middle;\n",
       "    }\n",
       "\n",
       "    .dataframe tbody tr th {\n",
       "        vertical-align: top;\n",
       "    }\n",
       "\n",
       "    .dataframe thead th {\n",
       "        text-align: right;\n",
       "    }\n",
       "</style>\n",
       "<table border=\"1\" class=\"dataframe\">\n",
       "  <thead>\n",
       "    <tr style=\"text-align: right;\">\n",
       "      <th></th>\n",
       "      <th>Parameter 1</th>\n",
       "      <th>Parameter 2</th>\n",
       "      <th>Parameter 3</th>\n",
       "      <th>Parameter 4</th>\n",
       "      <th>Parameter 5</th>\n",
       "      <th>Parameter 6</th>\n",
       "      <th>Parameter 7</th>\n",
       "      <th>Parameter 8</th>\n",
       "      <th>Parameter 9</th>\n",
       "      <th>Parameter 10</th>\n",
       "      <th>Parameter 11</th>\n",
       "      <th>Signal_Strength</th>\n",
       "    </tr>\n",
       "  </thead>\n",
       "  <tbody>\n",
       "    <tr>\n",
       "      <th>count</th>\n",
       "      <td>1359.000000</td>\n",
       "      <td>1359.000000</td>\n",
       "      <td>1359.000000</td>\n",
       "      <td>1359.000000</td>\n",
       "      <td>1359.000000</td>\n",
       "      <td>1359.000000</td>\n",
       "      <td>1359.000000</td>\n",
       "      <td>1359.000000</td>\n",
       "      <td>1359.000000</td>\n",
       "      <td>1359.000000</td>\n",
       "      <td>1359.000000</td>\n",
       "      <td>1359.000000</td>\n",
       "    </tr>\n",
       "    <tr>\n",
       "      <th>mean</th>\n",
       "      <td>8.310596</td>\n",
       "      <td>0.529478</td>\n",
       "      <td>0.272333</td>\n",
       "      <td>2.523400</td>\n",
       "      <td>0.088124</td>\n",
       "      <td>15.893304</td>\n",
       "      <td>46.825975</td>\n",
       "      <td>0.996709</td>\n",
       "      <td>3.309787</td>\n",
       "      <td>0.658705</td>\n",
       "      <td>10.432315</td>\n",
       "      <td>5.623252</td>\n",
       "    </tr>\n",
       "    <tr>\n",
       "      <th>std</th>\n",
       "      <td>1.736990</td>\n",
       "      <td>0.183031</td>\n",
       "      <td>0.195537</td>\n",
       "      <td>1.352314</td>\n",
       "      <td>0.049377</td>\n",
       "      <td>10.447270</td>\n",
       "      <td>33.408946</td>\n",
       "      <td>0.001869</td>\n",
       "      <td>0.155036</td>\n",
       "      <td>0.170667</td>\n",
       "      <td>1.082065</td>\n",
       "      <td>0.823578</td>\n",
       "    </tr>\n",
       "    <tr>\n",
       "      <th>min</th>\n",
       "      <td>4.600000</td>\n",
       "      <td>0.120000</td>\n",
       "      <td>0.000000</td>\n",
       "      <td>0.900000</td>\n",
       "      <td>0.012000</td>\n",
       "      <td>1.000000</td>\n",
       "      <td>6.000000</td>\n",
       "      <td>0.990070</td>\n",
       "      <td>2.740000</td>\n",
       "      <td>0.330000</td>\n",
       "      <td>8.400000</td>\n",
       "      <td>3.000000</td>\n",
       "    </tr>\n",
       "    <tr>\n",
       "      <th>25%</th>\n",
       "      <td>7.100000</td>\n",
       "      <td>0.390000</td>\n",
       "      <td>0.090000</td>\n",
       "      <td>1.900000</td>\n",
       "      <td>0.070000</td>\n",
       "      <td>7.000000</td>\n",
       "      <td>22.000000</td>\n",
       "      <td>0.995600</td>\n",
       "      <td>3.210000</td>\n",
       "      <td>0.550000</td>\n",
       "      <td>9.500000</td>\n",
       "      <td>5.000000</td>\n",
       "    </tr>\n",
       "    <tr>\n",
       "      <th>50%</th>\n",
       "      <td>7.900000</td>\n",
       "      <td>0.520000</td>\n",
       "      <td>0.260000</td>\n",
       "      <td>2.200000</td>\n",
       "      <td>0.079000</td>\n",
       "      <td>14.000000</td>\n",
       "      <td>38.000000</td>\n",
       "      <td>0.996700</td>\n",
       "      <td>3.310000</td>\n",
       "      <td>0.620000</td>\n",
       "      <td>10.200000</td>\n",
       "      <td>6.000000</td>\n",
       "    </tr>\n",
       "    <tr>\n",
       "      <th>75%</th>\n",
       "      <td>9.200000</td>\n",
       "      <td>0.640000</td>\n",
       "      <td>0.430000</td>\n",
       "      <td>2.600000</td>\n",
       "      <td>0.091000</td>\n",
       "      <td>21.000000</td>\n",
       "      <td>63.000000</td>\n",
       "      <td>0.997820</td>\n",
       "      <td>3.400000</td>\n",
       "      <td>0.730000</td>\n",
       "      <td>11.100000</td>\n",
       "      <td>6.000000</td>\n",
       "    </tr>\n",
       "    <tr>\n",
       "      <th>max</th>\n",
       "      <td>15.900000</td>\n",
       "      <td>1.580000</td>\n",
       "      <td>1.000000</td>\n",
       "      <td>15.500000</td>\n",
       "      <td>0.611000</td>\n",
       "      <td>72.000000</td>\n",
       "      <td>289.000000</td>\n",
       "      <td>1.003690</td>\n",
       "      <td>4.010000</td>\n",
       "      <td>2.000000</td>\n",
       "      <td>14.900000</td>\n",
       "      <td>8.000000</td>\n",
       "    </tr>\n",
       "  </tbody>\n",
       "</table>\n",
       "</div>"
      ],
      "text/plain": [
       "       Parameter 1  Parameter 2  Parameter 3  Parameter 4  Parameter 5  \\\n",
       "count  1359.000000  1359.000000  1359.000000  1359.000000  1359.000000   \n",
       "mean      8.310596     0.529478     0.272333     2.523400     0.088124   \n",
       "std       1.736990     0.183031     0.195537     1.352314     0.049377   \n",
       "min       4.600000     0.120000     0.000000     0.900000     0.012000   \n",
       "25%       7.100000     0.390000     0.090000     1.900000     0.070000   \n",
       "50%       7.900000     0.520000     0.260000     2.200000     0.079000   \n",
       "75%       9.200000     0.640000     0.430000     2.600000     0.091000   \n",
       "max      15.900000     1.580000     1.000000    15.500000     0.611000   \n",
       "\n",
       "       Parameter 6  Parameter 7  Parameter 8  Parameter 9  Parameter 10  \\\n",
       "count  1359.000000  1359.000000  1359.000000  1359.000000   1359.000000   \n",
       "mean     15.893304    46.825975     0.996709     3.309787      0.658705   \n",
       "std      10.447270    33.408946     0.001869     0.155036      0.170667   \n",
       "min       1.000000     6.000000     0.990070     2.740000      0.330000   \n",
       "25%       7.000000    22.000000     0.995600     3.210000      0.550000   \n",
       "50%      14.000000    38.000000     0.996700     3.310000      0.620000   \n",
       "75%      21.000000    63.000000     0.997820     3.400000      0.730000   \n",
       "max      72.000000   289.000000     1.003690     4.010000      2.000000   \n",
       "\n",
       "       Parameter 11  Signal_Strength  \n",
       "count   1359.000000      1359.000000  \n",
       "mean      10.432315         5.623252  \n",
       "std        1.082065         0.823578  \n",
       "min        8.400000         3.000000  \n",
       "25%        9.500000         5.000000  \n",
       "50%       10.200000         6.000000  \n",
       "75%       11.100000         6.000000  \n",
       "max       14.900000         8.000000  "
      ]
     },
     "execution_count": 25,
     "metadata": {},
     "output_type": "execute_result"
    }
   ],
   "source": [
    "signals_df.describe()"
   ]
  },
  {
   "cell_type": "code",
   "execution_count": 26,
   "id": "3e619dfe",
   "metadata": {},
   "outputs": [
    {
     "data": {
      "text/plain": [
       "<Axes: >"
      ]
     },
     "execution_count": 26,
     "metadata": {},
     "output_type": "execute_result"
    },
    {
     "data": {
      "image/png": "[encoded data removed]",
      "text/plain": [
       "<Figure size 1400x600 with 1 Axes>"
      ]
     },
     "metadata": {},
     "output_type": "display_data"
    }
   ],
   "source": [
    "sns.set(rc={\"figure.figsize\":(14,6)})\n",
    "sns.boxplot(signals_df)"
   ]
  },
  {
   "cell_type": "code",
   "execution_count": 27,
   "id": "401ab132",
   "metadata": {},
   "outputs": [],
   "source": [
    "#Observation 1: There are no null values present in any of the attributes of the given dataset.\n",
    "#Observation 2: The target variable \"Signal_Strength\" is of int64 datatype, whereas the rest are of float64 datatype.\n",
    "#Observation 3: The total duplicate rows present in the dataset were 240 and now been removed already.\n",
    "#Observation 4: Total columns present are 12 in the given dataset.\n",
    "#Observation 5: The signal strength of the value 5 are high in total count in the dataset.\n",
    "#Observation 6: From the above describe function, we observe that the attribute \"Parameter 6\"\n",
    "#               has the mininum value of 1 whereas maximum value of 72.\n",
    "#               This attribute has the 75% of the values lies between 1 and 21 and therefore we can say it has outliers.\n",
    "#Observation 7: We can observe from the above boxplot that there are outliers in attributes \"Parameter 6\" & \"Parameter 7\"."
   ]
  },
  {
   "cell_type": "code",
   "execution_count": 48,
   "id": "43ed9c2a",
   "metadata": {},
   "outputs": [],
   "source": [
    "#Step: 2A\n",
    "#Split the data into X & Y.\n",
    "\n",
    "#importing necessary libraries.\n",
    "\n",
    "import tensorflow\n",
    "from sklearn.model_selection import train_test_split\n",
    "from sklearn import preprocessing\n",
    "from tensorflow.keras.models import Sequential\n",
    "from tensorflow.keras.layers import Dense, Dropout, BatchNormalization\n",
    "from sklearn.metrics import accuracy_score, confusion_matrix, precision_score, recall_score, f1_score, precision_recall_curve, auc\n",
    "import matplotlib.pyplot as plt\n",
    "from tensorflow.keras import optimizers\n"
   ]
  },
  {
   "cell_type": "code",
   "execution_count": 29,
   "id": "992a584a",
   "metadata": {},
   "outputs": [
    {
     "data": {
      "text/plain": [
       "'2.10.0'"
      ]
     },
     "execution_count": 29,
     "metadata": {},
     "output_type": "execute_result"
    }
   ],
   "source": [
    "#checking the tensorflow version:\n",
    "\n",
    "tensorflow.__version__"
   ]
  },
  {
   "cell_type": "code",
   "execution_count": 30,
   "id": "8eff276b",
   "metadata": {},
   "outputs": [],
   "source": [
    "X_data = signals_df.iloc[:,:-1]"
   ]
  },
  {
   "cell_type": "code",
   "execution_count": 31,
   "id": "e770ac78",
   "metadata": {},
   "outputs": [],
   "source": [
    "y_data = signals_df.iloc[:,-1]"
   ]
  },
  {
   "cell_type": "code",
   "execution_count": 32,
   "id": "919c9c0d",
   "metadata": {},
   "outputs": [
    {
     "data": {
      "text/plain": [
       "(1359, 11)"
      ]
     },
     "execution_count": 32,
     "metadata": {},
     "output_type": "execute_result"
    }
   ],
   "source": [
    "X_data.shape"
   ]
  },
  {
   "cell_type": "code",
   "execution_count": 33,
   "id": "80a839c3",
   "metadata": {},
   "outputs": [
    {
     "data": {
      "text/plain": [
       "(1359,)"
      ]
     },
     "execution_count": 33,
     "metadata": {},
     "output_type": "execute_result"
    }
   ],
   "source": [
    "y_data.shape"
   ]
  },
  {
   "cell_type": "code",
   "execution_count": 34,
   "id": "8f9abdaa",
   "metadata": {},
   "outputs": [
    {
     "data": {
      "text/html": [
       "<div>\n",
       "<style scoped>\n",
       "    .dataframe tbody tr th:only-of-type {\n",
       "        vertical-align: middle;\n",
       "    }\n",
       "\n",
       "    .dataframe tbody tr th {\n",
       "        vertical-align: top;\n",
       "    }\n",
       "\n",
       "    .dataframe thead th {\n",
       "        text-align: right;\n",
       "    }\n",
       "</style>\n",
       "<table border=\"1\" class=\"dataframe\">\n",
       "  <thead>\n",
       "    <tr style=\"text-align: right;\">\n",
       "      <th></th>\n",
       "      <th>Parameter 1</th>\n",
       "      <th>Parameter 2</th>\n",
       "      <th>Parameter 3</th>\n",
       "      <th>Parameter 4</th>\n",
       "      <th>Parameter 5</th>\n",
       "      <th>Parameter 6</th>\n",
       "      <th>Parameter 7</th>\n",
       "      <th>Parameter 8</th>\n",
       "      <th>Parameter 9</th>\n",
       "      <th>Parameter 10</th>\n",
       "      <th>Parameter 11</th>\n",
       "    </tr>\n",
       "  </thead>\n",
       "  <tbody>\n",
       "    <tr>\n",
       "      <th>0</th>\n",
       "      <td>7.4</td>\n",
       "      <td>0.70</td>\n",
       "      <td>0.00</td>\n",
       "      <td>1.9</td>\n",
       "      <td>0.076</td>\n",
       "      <td>11.0</td>\n",
       "      <td>34.0</td>\n",
       "      <td>0.9978</td>\n",
       "      <td>3.51</td>\n",
       "      <td>0.56</td>\n",
       "      <td>9.4</td>\n",
       "    </tr>\n",
       "    <tr>\n",
       "      <th>1</th>\n",
       "      <td>7.8</td>\n",
       "      <td>0.88</td>\n",
       "      <td>0.00</td>\n",
       "      <td>2.6</td>\n",
       "      <td>0.098</td>\n",
       "      <td>25.0</td>\n",
       "      <td>67.0</td>\n",
       "      <td>0.9968</td>\n",
       "      <td>3.20</td>\n",
       "      <td>0.68</td>\n",
       "      <td>9.8</td>\n",
       "    </tr>\n",
       "    <tr>\n",
       "      <th>2</th>\n",
       "      <td>7.8</td>\n",
       "      <td>0.76</td>\n",
       "      <td>0.04</td>\n",
       "      <td>2.3</td>\n",
       "      <td>0.092</td>\n",
       "      <td>15.0</td>\n",
       "      <td>54.0</td>\n",
       "      <td>0.9970</td>\n",
       "      <td>3.26</td>\n",
       "      <td>0.65</td>\n",
       "      <td>9.8</td>\n",
       "    </tr>\n",
       "    <tr>\n",
       "      <th>3</th>\n",
       "      <td>11.2</td>\n",
       "      <td>0.28</td>\n",
       "      <td>0.56</td>\n",
       "      <td>1.9</td>\n",
       "      <td>0.075</td>\n",
       "      <td>17.0</td>\n",
       "      <td>60.0</td>\n",
       "      <td>0.9980</td>\n",
       "      <td>3.16</td>\n",
       "      <td>0.58</td>\n",
       "      <td>9.8</td>\n",
       "    </tr>\n",
       "    <tr>\n",
       "      <th>4</th>\n",
       "      <td>7.4</td>\n",
       "      <td>0.66</td>\n",
       "      <td>0.00</td>\n",
       "      <td>1.8</td>\n",
       "      <td>0.075</td>\n",
       "      <td>13.0</td>\n",
       "      <td>40.0</td>\n",
       "      <td>0.9978</td>\n",
       "      <td>3.51</td>\n",
       "      <td>0.56</td>\n",
       "      <td>9.4</td>\n",
       "    </tr>\n",
       "  </tbody>\n",
       "</table>\n",
       "</div>"
      ],
      "text/plain": [
       "   Parameter 1  Parameter 2  Parameter 3  Parameter 4  Parameter 5  \\\n",
       "0          7.4         0.70         0.00          1.9        0.076   \n",
       "1          7.8         0.88         0.00          2.6        0.098   \n",
       "2          7.8         0.76         0.04          2.3        0.092   \n",
       "3         11.2         0.28         0.56          1.9        0.075   \n",
       "4          7.4         0.66         0.00          1.8        0.075   \n",
       "\n",
       "   Parameter 6  Parameter 7  Parameter 8  Parameter 9  Parameter 10  \\\n",
       "0         11.0         34.0       0.9978         3.51          0.56   \n",
       "1         25.0         67.0       0.9968         3.20          0.68   \n",
       "2         15.0         54.0       0.9970         3.26          0.65   \n",
       "3         17.0         60.0       0.9980         3.16          0.58   \n",
       "4         13.0         40.0       0.9978         3.51          0.56   \n",
       "\n",
       "   Parameter 11  \n",
       "0           9.4  \n",
       "1           9.8  \n",
       "2           9.8  \n",
       "3           9.8  \n",
       "4           9.4  "
      ]
     },
     "execution_count": 34,
     "metadata": {},
     "output_type": "execute_result"
    }
   ],
   "source": [
    "X_data.head()"
   ]
  },
  {
   "cell_type": "code",
   "execution_count": 35,
   "id": "05d57ed8",
   "metadata": {},
   "outputs": [
    {
     "data": {
      "text/plain": [
       "0    5\n",
       "1    5\n",
       "2    5\n",
       "3    6\n",
       "4    5\n",
       "Name: Signal_Strength, dtype: int64"
      ]
     },
     "execution_count": 35,
     "metadata": {},
     "output_type": "execute_result"
    }
   ],
   "source": [
    "y_data.head()"
   ]
  },
  {
   "cell_type": "code",
   "execution_count": 36,
   "id": "cf9b1a46",
   "metadata": {},
   "outputs": [],
   "source": [
    "#Step: 2B\n",
    "#Spliting the data into train & test with 70:30 proportion.\n",
    "\n",
    "X_train, X_test, y_train, y_test = train_test_split(X_data, y_data, test_size=0.3, random_state=0)"
   ]
  },
  {
   "cell_type": "code",
   "execution_count": 37,
   "id": "bcc8a43d",
   "metadata": {},
   "outputs": [
    {
     "name": "stdout",
     "output_type": "stream",
     "text": [
      "Shape of X_train set:  (951, 11)\n",
      "Shape of X_test set:  (408, 11)\n",
      "Shape of y_train set:  (951,)\n",
      "Shape of y_test set:  (408,)\n"
     ]
    }
   ],
   "source": [
    "#Step: 2C\n",
    "#printing shape of all the 4 variables and verify if train and test data is in sync.\n",
    "\n",
    "print(\"Shape of X_train set: \", X_train.shape)\n",
    "print(\"Shape of X_test set: \", X_test.shape)\n",
    "print(\"Shape of y_train set: \", y_train.shape)\n",
    "print(\"Shape of y_test set: \", y_test.shape)"
   ]
  },
  {
   "cell_type": "code",
   "execution_count": 38,
   "id": "958852b9",
   "metadata": {},
   "outputs": [],
   "source": [
    "#Observation: from the above, we verify that train and test data is splitted in the ratio of 70:30 as\n",
    "# total records present are 1359 out of which 70% of 1359 is 951 which is train set and 30% is 408 which is test set."
   ]
  },
  {
   "cell_type": "code",
   "execution_count": 39,
   "id": "dec70568",
   "metadata": {},
   "outputs": [
    {
     "data": {
      "text/html": [
       "<div>\n",
       "<style scoped>\n",
       "    .dataframe tbody tr th:only-of-type {\n",
       "        vertical-align: middle;\n",
       "    }\n",
       "\n",
       "    .dataframe tbody tr th {\n",
       "        vertical-align: top;\n",
       "    }\n",
       "\n",
       "    .dataframe thead th {\n",
       "        text-align: right;\n",
       "    }\n",
       "</style>\n",
       "<table border=\"1\" class=\"dataframe\">\n",
       "  <thead>\n",
       "    <tr style=\"text-align: right;\">\n",
       "      <th></th>\n",
       "      <th>Parameter 1</th>\n",
       "      <th>Parameter 2</th>\n",
       "      <th>Parameter 3</th>\n",
       "      <th>Parameter 4</th>\n",
       "      <th>Parameter 5</th>\n",
       "      <th>Parameter 6</th>\n",
       "      <th>Parameter 7</th>\n",
       "      <th>Parameter 8</th>\n",
       "      <th>Parameter 9</th>\n",
       "      <th>Parameter 10</th>\n",
       "      <th>Parameter 11</th>\n",
       "    </tr>\n",
       "  </thead>\n",
       "  <tbody>\n",
       "    <tr>\n",
       "      <th>1000</th>\n",
       "      <td>7.1</td>\n",
       "      <td>0.59</td>\n",
       "      <td>0.00</td>\n",
       "      <td>2.2</td>\n",
       "      <td>0.078</td>\n",
       "      <td>26.0</td>\n",
       "      <td>44.0</td>\n",
       "      <td>0.99522</td>\n",
       "      <td>3.42</td>\n",
       "      <td>0.68</td>\n",
       "      <td>10.8</td>\n",
       "    </tr>\n",
       "    <tr>\n",
       "      <th>864</th>\n",
       "      <td>10.5</td>\n",
       "      <td>0.39</td>\n",
       "      <td>0.46</td>\n",
       "      <td>2.2</td>\n",
       "      <td>0.075</td>\n",
       "      <td>14.0</td>\n",
       "      <td>27.0</td>\n",
       "      <td>0.99598</td>\n",
       "      <td>3.06</td>\n",
       "      <td>0.84</td>\n",
       "      <td>11.4</td>\n",
       "    </tr>\n",
       "    <tr>\n",
       "      <th>1170</th>\n",
       "      <td>7.5</td>\n",
       "      <td>0.57</td>\n",
       "      <td>0.02</td>\n",
       "      <td>2.6</td>\n",
       "      <td>0.077</td>\n",
       "      <td>11.0</td>\n",
       "      <td>35.0</td>\n",
       "      <td>0.99557</td>\n",
       "      <td>3.36</td>\n",
       "      <td>0.62</td>\n",
       "      <td>10.8</td>\n",
       "    </tr>\n",
       "    <tr>\n",
       "      <th>16</th>\n",
       "      <td>7.4</td>\n",
       "      <td>0.59</td>\n",
       "      <td>0.08</td>\n",
       "      <td>4.4</td>\n",
       "      <td>0.086</td>\n",
       "      <td>6.0</td>\n",
       "      <td>29.0</td>\n",
       "      <td>0.99740</td>\n",
       "      <td>3.38</td>\n",
       "      <td>0.50</td>\n",
       "      <td>9.0</td>\n",
       "    </tr>\n",
       "    <tr>\n",
       "      <th>856</th>\n",
       "      <td>9.1</td>\n",
       "      <td>0.30</td>\n",
       "      <td>0.34</td>\n",
       "      <td>2.0</td>\n",
       "      <td>0.064</td>\n",
       "      <td>12.0</td>\n",
       "      <td>25.0</td>\n",
       "      <td>0.99516</td>\n",
       "      <td>3.26</td>\n",
       "      <td>0.84</td>\n",
       "      <td>11.7</td>\n",
       "    </tr>\n",
       "    <tr>\n",
       "      <th>...</th>\n",
       "      <td>...</td>\n",
       "      <td>...</td>\n",
       "      <td>...</td>\n",
       "      <td>...</td>\n",
       "      <td>...</td>\n",
       "      <td>...</td>\n",
       "      <td>...</td>\n",
       "      <td>...</td>\n",
       "      <td>...</td>\n",
       "      <td>...</td>\n",
       "      <td>...</td>\n",
       "    </tr>\n",
       "    <tr>\n",
       "      <th>763</th>\n",
       "      <td>6.8</td>\n",
       "      <td>0.57</td>\n",
       "      <td>0.00</td>\n",
       "      <td>2.5</td>\n",
       "      <td>0.072</td>\n",
       "      <td>32.0</td>\n",
       "      <td>64.0</td>\n",
       "      <td>0.99491</td>\n",
       "      <td>3.43</td>\n",
       "      <td>0.56</td>\n",
       "      <td>11.2</td>\n",
       "    </tr>\n",
       "    <tr>\n",
       "      <th>835</th>\n",
       "      <td>12.2</td>\n",
       "      <td>0.45</td>\n",
       "      <td>0.49</td>\n",
       "      <td>1.4</td>\n",
       "      <td>0.075</td>\n",
       "      <td>3.0</td>\n",
       "      <td>6.0</td>\n",
       "      <td>0.99690</td>\n",
       "      <td>3.13</td>\n",
       "      <td>0.63</td>\n",
       "      <td>10.4</td>\n",
       "    </tr>\n",
       "    <tr>\n",
       "      <th>1216</th>\n",
       "      <td>10.2</td>\n",
       "      <td>0.54</td>\n",
       "      <td>0.37</td>\n",
       "      <td>15.4</td>\n",
       "      <td>0.214</td>\n",
       "      <td>55.0</td>\n",
       "      <td>95.0</td>\n",
       "      <td>1.00369</td>\n",
       "      <td>3.18</td>\n",
       "      <td>0.77</td>\n",
       "      <td>9.0</td>\n",
       "    </tr>\n",
       "    <tr>\n",
       "      <th>559</th>\n",
       "      <td>7.3</td>\n",
       "      <td>0.67</td>\n",
       "      <td>0.05</td>\n",
       "      <td>3.6</td>\n",
       "      <td>0.107</td>\n",
       "      <td>6.0</td>\n",
       "      <td>20.0</td>\n",
       "      <td>0.99720</td>\n",
       "      <td>3.40</td>\n",
       "      <td>0.63</td>\n",
       "      <td>10.1</td>\n",
       "    </tr>\n",
       "    <tr>\n",
       "      <th>684</th>\n",
       "      <td>7.1</td>\n",
       "      <td>0.61</td>\n",
       "      <td>0.02</td>\n",
       "      <td>2.5</td>\n",
       "      <td>0.081</td>\n",
       "      <td>17.0</td>\n",
       "      <td>87.0</td>\n",
       "      <td>0.99745</td>\n",
       "      <td>3.48</td>\n",
       "      <td>0.60</td>\n",
       "      <td>9.7</td>\n",
       "    </tr>\n",
       "  </tbody>\n",
       "</table>\n",
       "<p>951 rows × 11 columns</p>\n",
       "</div>"
      ],
      "text/plain": [
       "      Parameter 1  Parameter 2  Parameter 3  Parameter 4  Parameter 5  \\\n",
       "1000          7.1         0.59         0.00          2.2        0.078   \n",
       "864          10.5         0.39         0.46          2.2        0.075   \n",
       "1170          7.5         0.57         0.02          2.6        0.077   \n",
       "16            7.4         0.59         0.08          4.4        0.086   \n",
       "856           9.1         0.30         0.34          2.0        0.064   \n",
       "...           ...          ...          ...          ...          ...   \n",
       "763           6.8         0.57         0.00          2.5        0.072   \n",
       "835          12.2         0.45         0.49          1.4        0.075   \n",
       "1216         10.2         0.54         0.37         15.4        0.214   \n",
       "559           7.3         0.67         0.05          3.6        0.107   \n",
       "684           7.1         0.61         0.02          2.5        0.081   \n",
       "\n",
       "      Parameter 6  Parameter 7  Parameter 8  Parameter 9  Parameter 10  \\\n",
       "1000         26.0         44.0      0.99522         3.42          0.68   \n",
       "864          14.0         27.0      0.99598         3.06          0.84   \n",
       "1170         11.0         35.0      0.99557         3.36          0.62   \n",
       "16            6.0         29.0      0.99740         3.38          0.50   \n",
       "856          12.0         25.0      0.99516         3.26          0.84   \n",
       "...           ...          ...          ...          ...           ...   \n",
       "763          32.0         64.0      0.99491         3.43          0.56   \n",
       "835           3.0          6.0      0.99690         3.13          0.63   \n",
       "1216         55.0         95.0      1.00369         3.18          0.77   \n",
       "559           6.0         20.0      0.99720         3.40          0.63   \n",
       "684          17.0         87.0      0.99745         3.48          0.60   \n",
       "\n",
       "      Parameter 11  \n",
       "1000          10.8  \n",
       "864           11.4  \n",
       "1170          10.8  \n",
       "16             9.0  \n",
       "856           11.7  \n",
       "...            ...  \n",
       "763           11.2  \n",
       "835           10.4  \n",
       "1216           9.0  \n",
       "559           10.1  \n",
       "684            9.7  \n",
       "\n",
       "[951 rows x 11 columns]"
      ]
     },
     "execution_count": 39,
     "metadata": {},
     "output_type": "execute_result"
    }
   ],
   "source": [
    "#Step: 2D\n",
    "# Normalising the train and test data with appropriate method.\n",
    "\n",
    "X_train"
   ]
  },
  {
   "cell_type": "code",
   "execution_count": 40,
   "id": "7cdfa3a3",
   "metadata": {},
   "outputs": [],
   "source": [
    "X_train = preprocessing.normalize(X_train)"
   ]
  },
  {
   "cell_type": "code",
   "execution_count": 41,
   "id": "195d8334",
   "metadata": {},
   "outputs": [],
   "source": [
    "#Step: 2E\n",
    "#transformming Labels into format acceptable by Neural Network.\n",
    "y_train_ML = y_train.astype('float32')\n",
    "y_test_ML = y_test.astype('float32')"
   ]
  },
  {
   "cell_type": "code",
   "execution_count": 42,
   "id": "4c3477fe",
   "metadata": {},
   "outputs": [],
   "source": [
    "y_train_ML = np.array(y_train_ML)\n",
    "y_test = np.array(y_test_ML)"
   ]
  },
  {
   "cell_type": "code",
   "execution_count": 43,
   "id": "0429981c",
   "metadata": {},
   "outputs": [
    {
     "data": {
      "text/plain": [
       "array([[1.34239885e-01, 1.11551454e-02, 0.00000000e+00, ...,\n",
       "        6.46620292e-02, 1.28567777e-02, 2.04195882e-01],\n",
       "       [3.05475244e-01, 1.13462233e-02, 1.33827250e-02, ...,\n",
       "        8.90242138e-02, 2.44380195e-02, 3.31658836e-01],\n",
       "       [1.91201745e-01, 1.45313327e-02, 5.09871321e-04, ...,\n",
       "        8.56583819e-02, 1.58060110e-02, 2.75330513e-01],\n",
       "       ...,\n",
       "       [9.12886029e-02, 4.83292604e-03, 3.31144932e-03, ...,\n",
       "        2.84605644e-02, 6.89139453e-03, 8.05487673e-02],\n",
       "       [2.93726510e-01, 2.69584605e-02, 2.01182541e-03, ...,\n",
       "        1.36804128e-01, 2.53490001e-02, 4.06388733e-01],\n",
       "       [7.92685532e-02, 6.81039682e-03, 2.23291699e-04, ...,\n",
       "        3.88527557e-02, 6.69875097e-03, 1.08296474e-01]])"
      ]
     },
     "execution_count": 43,
     "metadata": {},
     "output_type": "execute_result"
    }
   ],
   "source": [
    "X_train"
   ]
  },
  {
   "cell_type": "code",
   "execution_count": 44,
   "id": "5a65b9cf",
   "metadata": {},
   "outputs": [],
   "source": [
    "X_test = preprocessing.normalize(X_test)"
   ]
  },
  {
   "cell_type": "code",
   "execution_count": 45,
   "id": "2013d63c",
   "metadata": {},
   "outputs": [
    {
     "data": {
      "text/plain": [
       "array([[0.2835907 , 0.01890605, 0.00275713, ..., 0.1327362 , 0.02678357,\n",
       "        0.4411411 ],\n",
       "       [0.08545468, 0.00550708, 0.00237374, ..., 0.03066874, 0.00541213,\n",
       "        0.09210116],\n",
       "       [0.10678326, 0.00505815, 0.00435563, ..., 0.04861449, 0.00871127,\n",
       "        0.13347908],\n",
       "       ...,\n",
       "       [0.32783549, 0.01243514, 0.01431925, ..., 0.12435139, 0.02750804,\n",
       "        0.45218688],\n",
       "       [0.12658088, 0.01122652, 0.00165761, ..., 0.0480706 , 0.01235671,\n",
       "        0.14466387],\n",
       "       [0.22346013, 0.01256963, 0.00642448, ..., 0.08966338, 0.01368693,\n",
       "        0.28491166]])"
      ]
     },
     "execution_count": 45,
     "metadata": {},
     "output_type": "execute_result"
    }
   ],
   "source": [
    "X_test"
   ]
  },
  {
   "cell_type": "code",
   "execution_count": 46,
   "id": "1b1b49c8",
   "metadata": {},
   "outputs": [
    {
     "data": {
      "text/plain": [
       "dtype('float64')"
      ]
     },
     "execution_count": 46,
     "metadata": {},
     "output_type": "execute_result"
    }
   ],
   "source": [
    "X_test.dtype"
   ]
  },
  {
   "cell_type": "code",
   "execution_count": 47,
   "id": "90f5e5b3",
   "metadata": {},
   "outputs": [
    {
     "data": {
      "text/plain": [
       "array([[1.34239885e-01, 1.11551454e-02, 0.00000000e+00, ...,\n",
       "        6.46620292e-02, 1.28567777e-02, 2.04195882e-01],\n",
       "       [3.05475244e-01, 1.13462233e-02, 1.33827250e-02, ...,\n",
       "        8.90242138e-02, 2.44380195e-02, 3.31658836e-01],\n",
       "       [1.91201745e-01, 1.45313327e-02, 5.09871321e-04, ...,\n",
       "        8.56583819e-02, 1.58060110e-02, 2.75330513e-01],\n",
       "       ...,\n",
       "       [9.12886029e-02, 4.83292604e-03, 3.31144932e-03, ...,\n",
       "        2.84605644e-02, 6.89139453e-03, 8.05487673e-02],\n",
       "       [2.93726510e-01, 2.69584605e-02, 2.01182541e-03, ...,\n",
       "        1.36804128e-01, 2.53490001e-02, 4.06388733e-01],\n",
       "       [7.92685532e-02, 6.81039682e-03, 2.23291699e-04, ...,\n",
       "        3.88527557e-02, 6.69875097e-03, 1.08296474e-01]])"
      ]
     },
     "execution_count": 47,
     "metadata": {},
     "output_type": "execute_result"
    }
   ],
   "source": [
    "X_train"
   ]
  },
  {
   "cell_type": "code",
   "execution_count": null,
   "id": "9b0ccaf4",
   "metadata": {},
   "outputs": [],
   "source": []
  },
  {
   "cell_type": "code",
   "execution_count": 48,
   "id": "197bde2b",
   "metadata": {},
   "outputs": [
    {
     "data": {
      "text/plain": [
       "array([6., 6., 6., 4., 7., 5., 5., 6., 5., 6., 6., 5., 5., 5., 6., 6., 5.,\n",
       "       5., 5., 6., 5., 6., 7., 5., 5., 5., 5., 6., 5., 6., 5., 7., 7., 5.,\n",
       "       5., 8., 5., 5., 5., 5., 7., 5., 5., 5., 6., 7., 6., 5., 5., 6., 5.,\n",
       "       5., 6., 6., 6., 7., 6., 5., 5., 5., 5., 6., 6., 7., 5., 5., 6., 5.,\n",
       "       6., 6., 7., 7., 6., 5., 5., 7., 4., 6., 4., 6., 7., 5., 7., 5., 5.,\n",
       "       6., 6., 5., 5., 5., 6., 5., 5., 6., 5., 5., 5., 6., 5., 5., 6., 5.,\n",
       "       5., 7., 7., 6., 4., 6., 6., 5., 6., 5., 6., 5., 6., 6., 7., 5., 5.,\n",
       "       5., 6., 6., 6., 7., 6., 5., 5., 6., 6., 6., 5., 7., 6., 6., 6., 6.,\n",
       "       5., 5., 5., 6., 6., 6., 5., 6., 5., 5., 5., 6., 5., 6., 6., 6., 7.,\n",
       "       7., 5., 6., 5., 6., 6., 5., 5., 5., 5., 6., 5., 5., 6., 7., 5., 5.,\n",
       "       5., 6., 5., 5., 6., 5., 5., 6., 6., 5., 5., 5., 6., 5., 7., 5., 7.,\n",
       "       6., 5., 5., 5., 4., 4., 5., 6., 7., 5., 5., 4., 5., 7., 5., 6., 4.,\n",
       "       5., 6., 7., 6., 5., 6., 5., 5., 6., 5., 8., 6., 6., 4., 5., 6., 6.,\n",
       "       5., 6., 4., 6., 6., 6., 7., 6., 6., 8., 6., 5., 6., 6., 5., 6., 6.,\n",
       "       5., 5., 8., 6., 6., 6., 4., 7., 7., 5., 6., 6., 5., 6., 6., 6., 6.,\n",
       "       6., 5., 6., 5., 6., 5., 5., 5., 8., 6., 5., 5., 6., 5., 4., 5., 7.,\n",
       "       6., 6., 5., 6., 6., 6., 5., 5., 6., 5., 6., 7., 5., 6., 5., 6., 5.,\n",
       "       6., 4., 6., 7., 5., 5., 6., 6., 7., 5., 5., 6., 5., 6., 5., 6., 5.,\n",
       "       5., 5., 6., 6., 6., 5., 6., 5., 6., 5., 6., 5., 6., 6., 4., 5., 6.,\n",
       "       6., 6., 5., 7., 7., 6., 6., 6., 6., 6., 6., 6., 7., 5., 6., 6., 6.,\n",
       "       6., 6., 6., 7., 5., 7., 6., 6., 5., 6., 5., 6., 5., 6., 6., 4., 5.,\n",
       "       5., 6., 5., 7., 4., 5., 8., 6., 4., 5., 5., 4., 5., 6., 7., 7., 5.,\n",
       "       4., 5., 6., 6., 5., 5., 6., 5., 5., 6., 6., 5., 4., 6., 5., 7., 5.,\n",
       "       5., 6., 5., 4., 6., 5., 6., 5., 6., 6., 5., 5., 5., 5., 5., 5., 5.,\n",
       "       5., 5., 6., 7., 5., 6., 5., 6., 5., 6., 6., 5., 7., 6., 6., 6., 5.,\n",
       "       5., 5., 6., 6., 6., 6., 5., 6., 6., 6., 7., 5., 6., 6., 7., 6., 5.,\n",
       "       6., 6., 6., 6., 5., 5., 5., 6., 6., 5., 6., 6., 5., 5., 6., 5., 6.,\n",
       "       6., 4., 6., 5., 7., 5., 6., 5., 5., 5., 5., 6., 7., 5., 6., 6., 6.,\n",
       "       5., 6., 7., 6., 6., 5., 6., 5., 5., 6., 5., 6., 6., 5., 3., 6., 5.,\n",
       "       5., 5., 5., 7., 4., 5., 5., 6., 5., 6., 5., 7., 5., 6., 6., 6., 6.,\n",
       "       6., 6., 5., 6., 5., 5., 5., 5., 5., 6., 6., 6., 6., 5., 4., 7., 5.,\n",
       "       6., 7., 6., 5., 6., 5., 4., 6., 5., 6., 7., 6., 6., 5., 5., 6., 6.,\n",
       "       6., 6., 6., 6., 5., 7., 6., 5., 5., 5., 7., 6., 7., 6., 5., 5., 5.,\n",
       "       5., 5., 5., 5., 7., 6., 5., 6., 6., 6., 6., 5., 5., 5., 6., 8., 5.,\n",
       "       6., 6., 5., 6., 5., 6., 5., 6., 5., 6., 6., 6., 7., 5., 5., 5., 4.,\n",
       "       5., 5., 5., 7., 5., 6., 5., 6., 5., 7., 6., 7., 6., 6., 6., 7., 6.,\n",
       "       5., 5., 6., 7., 4., 6., 5., 6., 5., 5., 6., 5., 6., 5., 3., 5., 5.,\n",
       "       6., 5., 8., 6., 5., 8., 5., 7., 5., 6., 5., 5., 6., 5., 5., 4., 5.,\n",
       "       7., 6., 6., 5., 6., 5., 5., 7., 5., 6., 5., 5., 5., 6., 6., 6., 5.,\n",
       "       6., 6., 7., 6., 5., 5., 8., 5., 5., 6., 5., 5., 5., 5., 4., 7., 8.,\n",
       "       5., 5., 6., 5., 6., 6., 5., 6., 7., 6., 6., 5., 6., 7., 6., 5., 6.,\n",
       "       5., 6., 7., 5., 5., 5., 6., 5., 4., 5., 5., 5., 7., 5., 5., 6., 7.,\n",
       "       7., 5., 4., 7., 5., 6., 3., 5., 5., 5., 7., 6., 5., 7., 5., 6., 5.,\n",
       "       5., 6., 5., 6., 5., 7., 8., 5., 6., 6., 6., 7., 5., 6., 6., 4., 7.,\n",
       "       5., 6., 5., 5., 5., 5., 5., 5., 6., 6., 7., 5., 6., 6., 6., 6., 4.,\n",
       "       6., 7., 5., 5., 5., 7., 6., 5., 5., 5., 6., 6., 5., 4., 5., 5., 6.,\n",
       "       6., 5., 6., 6., 6., 5., 5., 5., 4., 5., 5., 6., 6., 5., 7., 6., 6.,\n",
       "       5., 6., 5., 5., 4., 7., 5., 3., 6., 5., 6., 5., 6., 5., 5., 5., 7.,\n",
       "       6., 5., 6., 7., 6., 4., 6., 6., 5., 7., 5., 6., 5., 4., 6., 6., 6.,\n",
       "       6., 5., 6., 6., 6., 5., 6., 5., 5., 5., 6., 6., 6., 5., 5., 6., 6.,\n",
       "       5., 8., 6., 5., 7., 6., 7., 6., 5., 7., 6., 6., 4., 6., 7., 4., 7.,\n",
       "       6., 7., 5., 5., 6., 6., 4., 6., 6., 7., 7., 5., 5., 5., 5., 7., 5.,\n",
       "       5., 6., 3., 7., 6., 5., 7., 5., 5., 7., 6., 5., 6., 5., 5., 5., 6.,\n",
       "       6., 5., 7., 6., 6., 7., 8., 6., 4., 6., 7., 5., 5., 5., 7., 5., 7.,\n",
       "       5., 5., 5., 6., 6., 6., 7., 5., 6., 5., 6., 6., 5., 6., 5., 6., 5.,\n",
       "       6., 6., 6., 5., 6., 6., 5., 5., 5., 6., 6., 6., 5., 6., 5., 6.],\n",
       "      dtype=float32)"
      ]
     },
     "execution_count": 48,
     "metadata": {},
     "output_type": "execute_result"
    }
   ],
   "source": [
    "y_train_ML"
   ]
  },
  {
   "cell_type": "code",
   "execution_count": 49,
   "id": "d2a29a9e",
   "metadata": {},
   "outputs": [],
   "source": [
    "y_train_NN = pd.get_dummies(y_train_ML)\n",
    "y_test_NN = pd.get_dummies(y_test_ML)"
   ]
  },
  {
   "cell_type": "code",
   "execution_count": 50,
   "id": "bae54102",
   "metadata": {},
   "outputs": [
    {
     "data": {
      "text/html": [
       "<div>\n",
       "<style scoped>\n",
       "    .dataframe tbody tr th:only-of-type {\n",
       "        vertical-align: middle;\n",
       "    }\n",
       "\n",
       "    .dataframe tbody tr th {\n",
       "        vertical-align: top;\n",
       "    }\n",
       "\n",
       "    .dataframe thead th {\n",
       "        text-align: right;\n",
       "    }\n",
       "</style>\n",
       "<table border=\"1\" class=\"dataframe\">\n",
       "  <thead>\n",
       "    <tr style=\"text-align: right;\">\n",
       "      <th></th>\n",
       "      <th>3.0</th>\n",
       "      <th>4.0</th>\n",
       "      <th>5.0</th>\n",
       "      <th>6.0</th>\n",
       "      <th>7.0</th>\n",
       "      <th>8.0</th>\n",
       "    </tr>\n",
       "  </thead>\n",
       "  <tbody>\n",
       "    <tr>\n",
       "      <th>965</th>\n",
       "      <td>False</td>\n",
       "      <td>False</td>\n",
       "      <td>False</td>\n",
       "      <td>False</td>\n",
       "      <td>True</td>\n",
       "      <td>False</td>\n",
       "    </tr>\n",
       "    <tr>\n",
       "      <th>657</th>\n",
       "      <td>False</td>\n",
       "      <td>False</td>\n",
       "      <td>True</td>\n",
       "      <td>False</td>\n",
       "      <td>False</td>\n",
       "      <td>False</td>\n",
       "    </tr>\n",
       "    <tr>\n",
       "      <th>1002</th>\n",
       "      <td>False</td>\n",
       "      <td>False</td>\n",
       "      <td>False</td>\n",
       "      <td>True</td>\n",
       "      <td>False</td>\n",
       "      <td>False</td>\n",
       "    </tr>\n",
       "    <tr>\n",
       "      <th>918</th>\n",
       "      <td>False</td>\n",
       "      <td>False</td>\n",
       "      <td>False</td>\n",
       "      <td>False</td>\n",
       "      <td>True</td>\n",
       "      <td>False</td>\n",
       "    </tr>\n",
       "    <tr>\n",
       "      <th>798</th>\n",
       "      <td>False</td>\n",
       "      <td>False</td>\n",
       "      <td>False</td>\n",
       "      <td>True</td>\n",
       "      <td>False</td>\n",
       "      <td>False</td>\n",
       "    </tr>\n",
       "    <tr>\n",
       "      <th>...</th>\n",
       "      <td>...</td>\n",
       "      <td>...</td>\n",
       "      <td>...</td>\n",
       "      <td>...</td>\n",
       "      <td>...</td>\n",
       "      <td>...</td>\n",
       "    </tr>\n",
       "    <tr>\n",
       "      <th>1253</th>\n",
       "      <td>True</td>\n",
       "      <td>False</td>\n",
       "      <td>False</td>\n",
       "      <td>False</td>\n",
       "      <td>False</td>\n",
       "      <td>False</td>\n",
       "    </tr>\n",
       "    <tr>\n",
       "      <th>759</th>\n",
       "      <td>False</td>\n",
       "      <td>False</td>\n",
       "      <td>False</td>\n",
       "      <td>True</td>\n",
       "      <td>False</td>\n",
       "      <td>False</td>\n",
       "    </tr>\n",
       "    <tr>\n",
       "      <th>794</th>\n",
       "      <td>False</td>\n",
       "      <td>False</td>\n",
       "      <td>False</td>\n",
       "      <td>False</td>\n",
       "      <td>True</td>\n",
       "      <td>False</td>\n",
       "    </tr>\n",
       "    <tr>\n",
       "      <th>122</th>\n",
       "      <td>False</td>\n",
       "      <td>False</td>\n",
       "      <td>True</td>\n",
       "      <td>False</td>\n",
       "      <td>False</td>\n",
       "      <td>False</td>\n",
       "    </tr>\n",
       "    <tr>\n",
       "      <th>589</th>\n",
       "      <td>False</td>\n",
       "      <td>False</td>\n",
       "      <td>False</td>\n",
       "      <td>True</td>\n",
       "      <td>False</td>\n",
       "      <td>False</td>\n",
       "    </tr>\n",
       "  </tbody>\n",
       "</table>\n",
       "<p>408 rows × 6 columns</p>\n",
       "</div>"
      ],
      "text/plain": [
       "        3.0    4.0    5.0    6.0    7.0    8.0\n",
       "965   False  False  False  False   True  False\n",
       "657   False  False   True  False  False  False\n",
       "1002  False  False  False   True  False  False\n",
       "918   False  False  False  False   True  False\n",
       "798   False  False  False   True  False  False\n",
       "...     ...    ...    ...    ...    ...    ...\n",
       "1253   True  False  False  False  False  False\n",
       "759   False  False  False   True  False  False\n",
       "794   False  False  False  False   True  False\n",
       "122   False  False   True  False  False  False\n",
       "589   False  False  False   True  False  False\n",
       "\n",
       "[408 rows x 6 columns]"
      ]
     },
     "execution_count": 50,
     "metadata": {},
     "output_type": "execute_result"
    }
   ],
   "source": [
    "y_test_NN"
   ]
  },
  {
   "cell_type": "code",
   "execution_count": 51,
   "id": "73563fd1",
   "metadata": {},
   "outputs": [
    {
     "data": {
      "text/html": [
       "<div>\n",
       "<style scoped>\n",
       "    .dataframe tbody tr th:only-of-type {\n",
       "        vertical-align: middle;\n",
       "    }\n",
       "\n",
       "    .dataframe tbody tr th {\n",
       "        vertical-align: top;\n",
       "    }\n",
       "\n",
       "    .dataframe thead th {\n",
       "        text-align: right;\n",
       "    }\n",
       "</style>\n",
       "<table border=\"1\" class=\"dataframe\">\n",
       "  <thead>\n",
       "    <tr style=\"text-align: right;\">\n",
       "      <th></th>\n",
       "      <th>3.0</th>\n",
       "      <th>4.0</th>\n",
       "      <th>5.0</th>\n",
       "      <th>6.0</th>\n",
       "      <th>7.0</th>\n",
       "      <th>8.0</th>\n",
       "    </tr>\n",
       "  </thead>\n",
       "  <tbody>\n",
       "    <tr>\n",
       "      <th>0</th>\n",
       "      <td>False</td>\n",
       "      <td>False</td>\n",
       "      <td>False</td>\n",
       "      <td>True</td>\n",
       "      <td>False</td>\n",
       "      <td>False</td>\n",
       "    </tr>\n",
       "    <tr>\n",
       "      <th>1</th>\n",
       "      <td>False</td>\n",
       "      <td>False</td>\n",
       "      <td>False</td>\n",
       "      <td>True</td>\n",
       "      <td>False</td>\n",
       "      <td>False</td>\n",
       "    </tr>\n",
       "    <tr>\n",
       "      <th>2</th>\n",
       "      <td>False</td>\n",
       "      <td>False</td>\n",
       "      <td>False</td>\n",
       "      <td>True</td>\n",
       "      <td>False</td>\n",
       "      <td>False</td>\n",
       "    </tr>\n",
       "    <tr>\n",
       "      <th>3</th>\n",
       "      <td>False</td>\n",
       "      <td>True</td>\n",
       "      <td>False</td>\n",
       "      <td>False</td>\n",
       "      <td>False</td>\n",
       "      <td>False</td>\n",
       "    </tr>\n",
       "    <tr>\n",
       "      <th>4</th>\n",
       "      <td>False</td>\n",
       "      <td>False</td>\n",
       "      <td>False</td>\n",
       "      <td>False</td>\n",
       "      <td>True</td>\n",
       "      <td>False</td>\n",
       "    </tr>\n",
       "    <tr>\n",
       "      <th>...</th>\n",
       "      <td>...</td>\n",
       "      <td>...</td>\n",
       "      <td>...</td>\n",
       "      <td>...</td>\n",
       "      <td>...</td>\n",
       "      <td>...</td>\n",
       "    </tr>\n",
       "    <tr>\n",
       "      <th>946</th>\n",
       "      <td>False</td>\n",
       "      <td>False</td>\n",
       "      <td>False</td>\n",
       "      <td>True</td>\n",
       "      <td>False</td>\n",
       "      <td>False</td>\n",
       "    </tr>\n",
       "    <tr>\n",
       "      <th>947</th>\n",
       "      <td>False</td>\n",
       "      <td>False</td>\n",
       "      <td>True</td>\n",
       "      <td>False</td>\n",
       "      <td>False</td>\n",
       "      <td>False</td>\n",
       "    </tr>\n",
       "    <tr>\n",
       "      <th>948</th>\n",
       "      <td>False</td>\n",
       "      <td>False</td>\n",
       "      <td>False</td>\n",
       "      <td>True</td>\n",
       "      <td>False</td>\n",
       "      <td>False</td>\n",
       "    </tr>\n",
       "    <tr>\n",
       "      <th>949</th>\n",
       "      <td>False</td>\n",
       "      <td>False</td>\n",
       "      <td>True</td>\n",
       "      <td>False</td>\n",
       "      <td>False</td>\n",
       "      <td>False</td>\n",
       "    </tr>\n",
       "    <tr>\n",
       "      <th>950</th>\n",
       "      <td>False</td>\n",
       "      <td>False</td>\n",
       "      <td>False</td>\n",
       "      <td>True</td>\n",
       "      <td>False</td>\n",
       "      <td>False</td>\n",
       "    </tr>\n",
       "  </tbody>\n",
       "</table>\n",
       "<p>951 rows × 6 columns</p>\n",
       "</div>"
      ],
      "text/plain": [
       "       3.0    4.0    5.0    6.0    7.0    8.0\n",
       "0    False  False  False   True  False  False\n",
       "1    False  False  False   True  False  False\n",
       "2    False  False  False   True  False  False\n",
       "3    False   True  False  False  False  False\n",
       "4    False  False  False  False   True  False\n",
       "..     ...    ...    ...    ...    ...    ...\n",
       "946  False  False  False   True  False  False\n",
       "947  False  False   True  False  False  False\n",
       "948  False  False  False   True  False  False\n",
       "949  False  False   True  False  False  False\n",
       "950  False  False  False   True  False  False\n",
       "\n",
       "[951 rows x 6 columns]"
      ]
     },
     "execution_count": 51,
     "metadata": {},
     "output_type": "execute_result"
    }
   ],
   "source": [
    "y_train_NN\n"
   ]
  },
  {
   "cell_type": "code",
   "execution_count": 52,
   "id": "5dd4b97e",
   "metadata": {},
   "outputs": [
    {
     "name": "stdout",
     "output_type": "stream",
     "text": [
      "Model: \"sequential\"\n",
      "_________________________________________________________________\n",
      " Layer (type)                Output Shape              Param #   \n",
      "=================================================================\n",
      " dense (Dense)               (None, 64)                768       \n",
      "                                                                 \n",
      " batch_normalization (BatchN  (None, 64)               256       \n",
      " ormalization)                                                   \n",
      "                                                                 \n",
      " dropout (Dropout)           (None, 64)                0         \n",
      "                                                                 \n",
      " dense_1 (Dense)             (None, 6)                 390       \n",
      "                                                                 \n",
      "=================================================================\n",
      "Total params: 1,414\n",
      "Trainable params: 1,286\n",
      "Non-trainable params: 128\n",
      "_________________________________________________________________\n"
     ]
    }
   ],
   "source": [
    "#Step: 3A\n",
    "# designing a Neural Network to train a classifier.\n",
    "\n",
    "#importing necessary libraries for designing Neural Network architecture.\n",
    "\n",
    "import tensorflow\n",
    "from tensorflow.keras.models import Sequential\n",
    "from tensorflow.keras.layers import Dense, Dropout, BatchNormalization\n",
    "from tensorflow.keras import optimizers\n",
    "\n",
    "model = Sequential()\n",
    "\n",
    "model.add(Dense(64, input_shape = (11,), activation = 'relu'))\n",
    "model.add(BatchNormalization())\n",
    "model.add(Dropout(0.5))\n",
    "model.add(Dense(6, activation = 'softmax'))\n",
    "model.summary()\n"
   ]
  },
  {
   "cell_type": "code",
   "execution_count": 53,
   "id": "bc09c33d",
   "metadata": {},
   "outputs": [
    {
     "name": "stdout",
     "output_type": "stream",
     "text": [
      "Model: \"sequential\"\n",
      "_________________________________________________________________\n",
      " Layer (type)                Output Shape              Param #   \n",
      "=================================================================\n",
      " dense (Dense)               (None, 64)                768       \n",
      "                                                                 \n",
      " batch_normalization (BatchN  (None, 64)               256       \n",
      " ormalization)                                                   \n",
      "                                                                 \n",
      " dropout (Dropout)           (None, 64)                0         \n",
      "                                                                 \n",
      " dense_1 (Dense)             (None, 6)                 390       \n",
      "                                                                 \n",
      "=================================================================\n",
      "Total params: 1,414\n",
      "Trainable params: 1,286\n",
      "Non-trainable params: 128\n",
      "_________________________________________________________________\n"
     ]
    }
   ],
   "source": [
    "#Step: 3B\n",
    "#training the classifier using previously designed Architecture.\n",
    "\n",
    "opt = optimizers.Adam(learning_rate= 0.001)\n",
    "model.compile(optimizer = opt, loss = 'categorical_crossentropy',metrics=['accuracy'])\n",
    "\n",
    "\n",
    "model.summary()"
   ]
  },
  {
   "cell_type": "code",
   "execution_count": 54,
   "id": "1589e365",
   "metadata": {},
   "outputs": [
    {
     "name": "stdout",
     "output_type": "stream",
     "text": [
      "Epoch 1/30\n",
      "32/32 [==============================] - 1s 8ms/step - loss: 1.9534 - accuracy: 0.2187 - val_loss: 1.6609 - val_accuracy: 0.3750\n",
      "Epoch 2/30\n",
      "32/32 [==============================] - 0s 3ms/step - loss: 1.6816 - accuracy: 0.3817 - val_loss: 1.5427 - val_accuracy: 0.3750\n",
      "Epoch 3/30\n",
      "32/32 [==============================] - 0s 2ms/step - loss: 1.5367 - accuracy: 0.4553 - val_loss: 1.4168 - val_accuracy: 0.3750\n",
      "Epoch 4/30\n",
      "32/32 [==============================] - 0s 2ms/step - loss: 1.3881 - accuracy: 0.4732 - val_loss: 1.3247 - val_accuracy: 0.3750\n",
      "Epoch 5/30\n",
      "32/32 [==============================] - 0s 2ms/step - loss: 1.3017 - accuracy: 0.4595 - val_loss: 1.2723 - val_accuracy: 0.3750\n",
      "Epoch 6/30\n",
      "32/32 [==============================] - 0s 3ms/step - loss: 1.2480 - accuracy: 0.4879 - val_loss: 1.2398 - val_accuracy: 0.4191\n",
      "Epoch 7/30\n",
      "32/32 [==============================] - 0s 3ms/step - loss: 1.2347 - accuracy: 0.4700 - val_loss: 1.2245 - val_accuracy: 0.4191\n",
      "Epoch 8/30\n",
      "32/32 [==============================] - 0s 2ms/step - loss: 1.2019 - accuracy: 0.4900 - val_loss: 1.2112 - val_accuracy: 0.4779\n",
      "Epoch 9/30\n",
      "32/32 [==============================] - 0s 3ms/step - loss: 1.1907 - accuracy: 0.5142 - val_loss: 1.2024 - val_accuracy: 0.5098\n",
      "Epoch 10/30\n",
      "32/32 [==============================] - 0s 2ms/step - loss: 1.1636 - accuracy: 0.5026 - val_loss: 1.1954 - val_accuracy: 0.4902\n",
      "Epoch 11/30\n",
      "32/32 [==============================] - 0s 2ms/step - loss: 1.1737 - accuracy: 0.4932 - val_loss: 1.1896 - val_accuracy: 0.4975\n",
      "Epoch 12/30\n",
      "32/32 [==============================] - 0s 2ms/step - loss: 1.1844 - accuracy: 0.4816 - val_loss: 1.1844 - val_accuracy: 0.5147\n",
      "Epoch 13/30\n",
      "32/32 [==============================] - 0s 3ms/step - loss: 1.1626 - accuracy: 0.5026 - val_loss: 1.1762 - val_accuracy: 0.4951\n",
      "Epoch 14/30\n",
      "32/32 [==============================] - 0s 3ms/step - loss: 1.1530 - accuracy: 0.4984 - val_loss: 1.1699 - val_accuracy: 0.5123\n",
      "Epoch 15/30\n",
      "32/32 [==============================] - 0s 2ms/step - loss: 1.1475 - accuracy: 0.4963 - val_loss: 1.1640 - val_accuracy: 0.5098\n",
      "Epoch 16/30\n",
      "32/32 [==============================] - 0s 3ms/step - loss: 1.1457 - accuracy: 0.4963 - val_loss: 1.1598 - val_accuracy: 0.5172\n",
      "Epoch 17/30\n",
      "32/32 [==============================] - 0s 3ms/step - loss: 1.1378 - accuracy: 0.4932 - val_loss: 1.1477 - val_accuracy: 0.5172\n",
      "Epoch 18/30\n",
      "32/32 [==============================] - 0s 2ms/step - loss: 1.1209 - accuracy: 0.5289 - val_loss: 1.1370 - val_accuracy: 0.5074\n",
      "Epoch 19/30\n",
      "32/32 [==============================] - 0s 2ms/step - loss: 1.1406 - accuracy: 0.4911 - val_loss: 1.1373 - val_accuracy: 0.5123\n",
      "Epoch 20/30\n",
      "32/32 [==============================] - 0s 3ms/step - loss: 1.1235 - accuracy: 0.5174 - val_loss: 1.1337 - val_accuracy: 0.5196\n",
      "Epoch 21/30\n",
      "32/32 [==============================] - 0s 3ms/step - loss: 1.1113 - accuracy: 0.5331 - val_loss: 1.1283 - val_accuracy: 0.5049\n",
      "Epoch 22/30\n",
      "32/32 [==============================] - 0s 2ms/step - loss: 1.1062 - accuracy: 0.5205 - val_loss: 1.1249 - val_accuracy: 0.5294\n",
      "Epoch 23/30\n",
      "32/32 [==============================] - 0s 2ms/step - loss: 1.1097 - accuracy: 0.5342 - val_loss: 1.1231 - val_accuracy: 0.5270\n",
      "Epoch 24/30\n",
      "32/32 [==============================] - 0s 2ms/step - loss: 1.1082 - accuracy: 0.5226 - val_loss: 1.1178 - val_accuracy: 0.5172\n",
      "Epoch 25/30\n",
      "32/32 [==============================] - 0s 2ms/step - loss: 1.0953 - accuracy: 0.5478 - val_loss: 1.1159 - val_accuracy: 0.5172\n",
      "Epoch 26/30\n",
      "32/32 [==============================] - 0s 2ms/step - loss: 1.0931 - accuracy: 0.5394 - val_loss: 1.1180 - val_accuracy: 0.5270\n",
      "Epoch 27/30\n",
      "32/32 [==============================] - 0s 2ms/step - loss: 1.1005 - accuracy: 0.5468 - val_loss: 1.1118 - val_accuracy: 0.5245\n",
      "Epoch 28/30\n",
      "32/32 [==============================] - 0s 3ms/step - loss: 1.0857 - accuracy: 0.5384 - val_loss: 1.1196 - val_accuracy: 0.5172\n",
      "Epoch 29/30\n",
      "32/32 [==============================] - 0s 3ms/step - loss: 1.0863 - accuracy: 0.5268 - val_loss: 1.1114 - val_accuracy: 0.5025\n",
      "Epoch 30/30\n",
      "32/32 [==============================] - 0s 2ms/step - loss: 1.0807 - accuracy: 0.5405 - val_loss: 1.1294 - val_accuracy: 0.4951\n"
     ]
    }
   ],
   "source": [
    "history = model.fit(X_train, y_train_NN, batch_size = 30, epochs = 30,validation_data=(X_test, y_test_NN))"
   ]
  },
  {
   "cell_type": "code",
   "execution_count": 55,
   "id": "7d981438",
   "metadata": {},
   "outputs": [
    {
     "data": {
      "text/plain": [
       "Text(0.5, 1.0, 'Training and validation loss')"
      ]
     },
     "execution_count": 55,
     "metadata": {},
     "output_type": "execute_result"
    },
    {
     "data": {
      "image/png": "[encoded data removed]",
      "text/plain": [
       "<Figure size 500x400 with 1 Axes>"
      ]
     },
     "metadata": {},
     "output_type": "display_data"
    }
   ],
   "source": [
    "#Step: 3C\n",
    "#Plot 2 separate visuals.\n",
    "\n",
    "#plotting Training Loss and Validation Loss.\n",
    "\n",
    "\n",
    "accuracy = history.history['accuracy']\n",
    "val_accuracy = history.history['val_accuracy']\n",
    "loss = history.history['loss']\n",
    "val_loss = history.history['val_loss']\n",
    "\n",
    "epochs = range(len(accuracy)) # Get number of epochs\n",
    "\n",
    "plt.figure(figsize=(5,4))\n",
    "plt.plot(epochs, loss, label = 'training loss')\n",
    "plt.plot(epochs, val_loss, label = 'validation loss')\n",
    "plt.legend(loc = 'upper right')\n",
    "plt.title('Training and validation loss')"
   ]
  },
  {
   "cell_type": "code",
   "execution_count": 64,
   "id": "c5a19d94",
   "metadata": {},
   "outputs": [
    {
     "data": {
      "text/plain": [
       "<Figure size 1400x600 with 0 Axes>"
      ]
     },
     "execution_count": 64,
     "metadata": {},
     "output_type": "execute_result"
    },
    {
     "data": {
      "image/png": "[encoded data removed]",
      "text/plain": [
       "<Figure size 500x400 with 1 Axes>"
      ]
     },
     "metadata": {},
     "output_type": "display_data"
    },
    {
     "data": {
      "text/plain": [
       "<Figure size 1400x600 with 0 Axes>"
      ]
     },
     "metadata": {},
     "output_type": "display_data"
    }
   ],
   "source": [
    "#plotting training Accuracy and Validation Accuracy\n",
    "\n",
    "plt.figure(figsize=(5,4))\n",
    "plt.plot(epochs, accuracy, label = 'training accuracy')\n",
    "plt.plot(epochs, val_accuracy, label = 'validation accuracy')\n",
    "plt.title('Training and validation accuracy')\n",
    "plt.legend(loc = 'lower right')\n",
    "plt.figure()"
   ]
  },
  {
   "cell_type": "code",
   "execution_count": null,
   "id": "af704d26",
   "metadata": {},
   "outputs": [],
   "source": [
    "#Observation 1: From the above chart we observe that training accuracy of 54.05% is achieved at last epoch = 30.\n",
    "# whereas validation accuracy of 49.51% is achieved at the last epcoh = 30. \n",
    "#Observation 2: Also, the validation loss is reduced to 1.1294 by using the loss function \"categorical_crossentropy\"."
   ]
  },
  {
   "cell_type": "code",
   "execution_count": 58,
   "id": "de911e06",
   "metadata": {},
   "outputs": [
    {
     "name": "stdout",
     "output_type": "stream",
     "text": [
      "Model: \"sequential_2\"\n",
      "_________________________________________________________________\n",
      " Layer (type)                Output Shape              Param #   \n",
      "=================================================================\n",
      " dense_6 (Dense)             (None, 256)               3072      \n",
      "                                                                 \n",
      " batch_normalization_4 (Batc  (None, 256)              1024      \n",
      " hNormalization)                                                 \n",
      "                                                                 \n",
      " dropout_4 (Dropout)         (None, 256)               0         \n",
      "                                                                 \n",
      " dense_7 (Dense)             (None, 128)               32896     \n",
      "                                                                 \n",
      " batch_normalization_5 (Batc  (None, 128)              512       \n",
      " hNormalization)                                                 \n",
      "                                                                 \n",
      " dropout_5 (Dropout)         (None, 128)               0         \n",
      "                                                                 \n",
      " dense_8 (Dense)             (None, 64)                8256      \n",
      "                                                                 \n",
      " batch_normalization_6 (Batc  (None, 64)               256       \n",
      " hNormalization)                                                 \n",
      "                                                                 \n",
      " dropout_6 (Dropout)         (None, 64)                0         \n",
      "                                                                 \n",
      " dense_9 (Dense)             (None, 6)                 390       \n",
      "                                                                 \n",
      "=================================================================\n",
      "Total params: 46,406\n",
      "Trainable params: 45,510\n",
      "Non-trainable params: 896\n",
      "_________________________________________________________________\n"
     ]
    }
   ],
   "source": [
    "#Step: 3D\n",
    "#Designing new architecture/update existing architecture in attempt to improve the performance of the model.\n",
    "\n",
    "#adding 2 new layers of dense layers with 256 and 128 filters respectively.\n",
    "#dropout value fixed at 0.1 for the 1st dense layer.\n",
    "\n",
    "new_model = Sequential()\n",
    "\n",
    "\n",
    "new_model.add(Dense(256, input_shape = (11,), activation = 'relu'))\n",
    "new_model.add(BatchNormalization())\n",
    "new_model.add(Dropout(0.1))\n",
    "\n",
    "new_model.add(Dense(128, input_shape = (11,), activation = 'relu'))\n",
    "new_model.add(BatchNormalization())\n",
    "new_model.add(Dropout(0.5))\n",
    "\n",
    "new_model.add(Dense(64, input_shape = (11,), activation = 'relu'))\n",
    "new_model.add(BatchNormalization())\n",
    "new_model.add(Dropout(0.5))\n",
    "\n",
    "new_model.add(Dense(6, activation = 'softmax'))\n",
    "new_model.summary()"
   ]
  },
  {
   "cell_type": "code",
   "execution_count": 59,
   "id": "51e4a138",
   "metadata": {},
   "outputs": [],
   "source": [
    "opt = optimizers.Adam(learning_rate= 0.001)\n",
    "new_model.compile(optimizer = opt, loss = 'categorical_crossentropy',metrics=['accuracy'])"
   ]
  },
  {
   "cell_type": "code",
   "execution_count": 63,
   "id": "5e932234",
   "metadata": {},
   "outputs": [
    {
     "name": "stdout",
     "output_type": "stream",
     "text": [
      "Epoch 1/40\n",
      "30/30 [==============================] - 0s 5ms/step - loss: 0.9285 - accuracy: 0.6078 - val_loss: 1.0815 - val_accuracy: 0.5809\n",
      "Epoch 2/40\n",
      "30/30 [==============================] - 0s 4ms/step - loss: 0.9438 - accuracy: 0.5973 - val_loss: 1.1020 - val_accuracy: 0.5613\n",
      "Epoch 3/40\n",
      "30/30 [==============================] - 0s 4ms/step - loss: 0.9140 - accuracy: 0.6183 - val_loss: 1.0688 - val_accuracy: 0.5735\n",
      "Epoch 4/40\n",
      "30/30 [==============================] - 0s 4ms/step - loss: 0.9382 - accuracy: 0.5931 - val_loss: 1.1409 - val_accuracy: 0.5613\n",
      "Epoch 5/40\n",
      "30/30 [==============================] - 0s 4ms/step - loss: 0.9418 - accuracy: 0.6025 - val_loss: 1.1717 - val_accuracy: 0.5417\n",
      "Epoch 6/40\n",
      "30/30 [==============================] - 0s 4ms/step - loss: 0.9527 - accuracy: 0.5857 - val_loss: 1.1246 - val_accuracy: 0.5613\n",
      "Epoch 7/40\n",
      "30/30 [==============================] - 0s 4ms/step - loss: 0.9237 - accuracy: 0.5994 - val_loss: 1.1296 - val_accuracy: 0.5564\n",
      "Epoch 8/40\n",
      "30/30 [==============================] - 0s 4ms/step - loss: 0.9089 - accuracy: 0.6120 - val_loss: 1.0705 - val_accuracy: 0.5809\n",
      "Epoch 9/40\n",
      "30/30 [==============================] - 0s 4ms/step - loss: 0.9364 - accuracy: 0.5783 - val_loss: 1.0655 - val_accuracy: 0.5637\n",
      "Epoch 10/40\n",
      "30/30 [==============================] - 0s 4ms/step - loss: 0.9308 - accuracy: 0.6099 - val_loss: 1.0584 - val_accuracy: 0.5466\n",
      "Epoch 11/40\n",
      "30/30 [==============================] - 0s 4ms/step - loss: 0.8977 - accuracy: 0.6172 - val_loss: 1.0747 - val_accuracy: 0.5637\n",
      "Epoch 12/40\n",
      "30/30 [==============================] - 0s 4ms/step - loss: 0.8999 - accuracy: 0.6130 - val_loss: 1.0869 - val_accuracy: 0.5784\n",
      "Epoch 13/40\n",
      "30/30 [==============================] - 0s 4ms/step - loss: 0.9118 - accuracy: 0.5994 - val_loss: 1.0752 - val_accuracy: 0.5735\n",
      "Epoch 14/40\n",
      "30/30 [==============================] - 0s 4ms/step - loss: 0.9161 - accuracy: 0.5920 - val_loss: 1.0736 - val_accuracy: 0.5956\n",
      "Epoch 15/40\n",
      "30/30 [==============================] - 0s 4ms/step - loss: 0.9526 - accuracy: 0.5899 - val_loss: 1.0767 - val_accuracy: 0.5686\n",
      "Epoch 16/40\n",
      "30/30 [==============================] - 0s 4ms/step - loss: 0.9210 - accuracy: 0.5952 - val_loss: 1.1082 - val_accuracy: 0.5637\n",
      "Epoch 17/40\n",
      "30/30 [==============================] - 0s 4ms/step - loss: 0.9197 - accuracy: 0.5941 - val_loss: 1.0580 - val_accuracy: 0.5735\n",
      "Epoch 18/40\n",
      "30/30 [==============================] - 0s 4ms/step - loss: 0.9250 - accuracy: 0.5983 - val_loss: 1.0623 - val_accuracy: 0.5833\n",
      "Epoch 19/40\n",
      "30/30 [==============================] - 0s 4ms/step - loss: 0.9311 - accuracy: 0.6036 - val_loss: 1.0782 - val_accuracy: 0.5858\n",
      "Epoch 20/40\n",
      "30/30 [==============================] - 0s 4ms/step - loss: 0.9050 - accuracy: 0.6057 - val_loss: 1.1086 - val_accuracy: 0.5686\n",
      "Epoch 21/40\n",
      "30/30 [==============================] - 0s 4ms/step - loss: 0.9278 - accuracy: 0.5889 - val_loss: 1.0913 - val_accuracy: 0.5637\n",
      "Epoch 22/40\n",
      "30/30 [==============================] - 0s 4ms/step - loss: 0.9243 - accuracy: 0.5994 - val_loss: 1.0665 - val_accuracy: 0.5711\n",
      "Epoch 23/40\n",
      "30/30 [==============================] - 0s 4ms/step - loss: 0.9431 - accuracy: 0.5878 - val_loss: 1.1142 - val_accuracy: 0.4877\n",
      "Epoch 24/40\n",
      "30/30 [==============================] - 0s 4ms/step - loss: 0.9041 - accuracy: 0.5994 - val_loss: 1.1398 - val_accuracy: 0.5564\n",
      "Epoch 25/40\n",
      "30/30 [==============================] - 0s 4ms/step - loss: 0.9224 - accuracy: 0.5952 - val_loss: 1.1151 - val_accuracy: 0.5686\n",
      "Epoch 26/40\n",
      "30/30 [==============================] - 0s 4ms/step - loss: 0.9350 - accuracy: 0.5868 - val_loss: 1.1309 - val_accuracy: 0.5539\n",
      "Epoch 27/40\n",
      "30/30 [==============================] - 0s 4ms/step - loss: 0.9075 - accuracy: 0.6015 - val_loss: 1.0842 - val_accuracy: 0.5539\n",
      "Epoch 28/40\n",
      "30/30 [==============================] - 0s 3ms/step - loss: 0.9151 - accuracy: 0.6036 - val_loss: 1.0601 - val_accuracy: 0.5637\n",
      "Epoch 29/40\n",
      "30/30 [==============================] - 0s 4ms/step - loss: 0.9207 - accuracy: 0.5868 - val_loss: 1.0775 - val_accuracy: 0.5809\n",
      "Epoch 30/40\n",
      "30/30 [==============================] - 0s 4ms/step - loss: 0.9314 - accuracy: 0.5962 - val_loss: 1.0780 - val_accuracy: 0.5760\n",
      "Epoch 31/40\n",
      "30/30 [==============================] - 0s 4ms/step - loss: 0.9220 - accuracy: 0.6046 - val_loss: 1.1763 - val_accuracy: 0.5490\n",
      "Epoch 32/40\n",
      "30/30 [==============================] - 0s 4ms/step - loss: 0.9466 - accuracy: 0.5804 - val_loss: 1.1209 - val_accuracy: 0.5711\n",
      "Epoch 33/40\n",
      "30/30 [==============================] - 0s 4ms/step - loss: 0.9009 - accuracy: 0.6204 - val_loss: 1.0804 - val_accuracy: 0.5809\n",
      "Epoch 34/40\n",
      "30/30 [==============================] - 0s 4ms/step - loss: 0.9155 - accuracy: 0.6088 - val_loss: 1.0953 - val_accuracy: 0.5735\n",
      "Epoch 35/40\n",
      "30/30 [==============================] - 0s 4ms/step - loss: 0.9103 - accuracy: 0.5983 - val_loss: 1.0590 - val_accuracy: 0.5784\n",
      "Epoch 36/40\n",
      "30/30 [==============================] - 0s 4ms/step - loss: 0.9372 - accuracy: 0.5899 - val_loss: 1.0670 - val_accuracy: 0.5711\n",
      "Epoch 37/40\n",
      "30/30 [==============================] - 0s 4ms/step - loss: 0.9329 - accuracy: 0.5878 - val_loss: 1.0923 - val_accuracy: 0.5809\n",
      "Epoch 38/40\n",
      "30/30 [==============================] - 0s 4ms/step - loss: 0.9199 - accuracy: 0.5836 - val_loss: 1.0737 - val_accuracy: 0.5711\n",
      "Epoch 39/40\n",
      "30/30 [==============================] - 0s 4ms/step - loss: 0.8967 - accuracy: 0.5973 - val_loss: 1.1461 - val_accuracy: 0.5515\n",
      "Epoch 40/40\n",
      "30/30 [==============================] - 0s 4ms/step - loss: 0.9179 - accuracy: 0.5920 - val_loss: 1.1124 - val_accuracy: 0.5539\n"
     ]
    }
   ],
   "source": [
    "history_2 = new_model.fit(X_train, y_train_NN, batch_size = 32, epochs = 40,validation_data=(X_test, y_test_NN))"
   ]
  },
  {
   "cell_type": "code",
   "execution_count": null,
   "id": "97fdbd40",
   "metadata": {},
   "outputs": [],
   "source": [
    "#Observation: The model performance is improved by designing the new Neural Network architecture.\n",
    "# We have achieved training accuracy of 59.20% whereas validation accuracy is achieved to 55.39% with total epochs = 40.\n",
    "# The validation loss is reduced to 1.1124% at the final epoch.\n",
    "# The accuracy of 62.04% is also achieved at epoch = 33 with the new NN architecture."
   ]
  },
  {
   "cell_type": "code",
   "execution_count": 66,
   "id": "5458dffe",
   "metadata": {},
   "outputs": [
    {
     "data": {
      "text/plain": [
       "Text(0.5, 1.0, 'Training and validation loss')"
      ]
     },
     "execution_count": 66,
     "metadata": {},
     "output_type": "execute_result"
    },
    {
     "data": {
      "image/png": "[encoded data removed]",
      "text/plain": [
       "<Figure size 500x400 with 1 Axes>"
      ]
     },
     "metadata": {},
     "output_type": "display_data"
    }
   ],
   "source": [
    "#Step: 3E\n",
    "#Plot visuals as in Q3.C and share insights about difference observed in both the models\n",
    "\n",
    "#plotting Training Loss and Validation Loss.\n",
    "\n",
    "\n",
    "accuracy_2 = history_2.history['accuracy']\n",
    "val_accuracy_2 = history_2.history['val_accuracy']\n",
    "loss_2 = history_2.history['loss']\n",
    "val_loss_2 = history_2.history['val_loss']\n",
    "\n",
    "epochs = range(len(accuracy_2)) # Get number of epochs\n",
    "\n",
    "plt.figure(figsize=(5,4))\n",
    "plt.plot(epochs, loss_2, label = 'training loss')\n",
    "plt.plot(epochs, val_loss_2, label = 'validation loss')\n",
    "plt.legend(loc = 'upper right')\n",
    "plt.title('Training and validation loss')"
   ]
  },
  {
   "cell_type": "code",
   "execution_count": 67,
   "id": "ecf11e58",
   "metadata": {},
   "outputs": [
    {
     "data": {
      "text/plain": [
       "<Figure size 1400x600 with 0 Axes>"
      ]
     },
     "execution_count": 67,
     "metadata": {},
     "output_type": "execute_result"
    },
    {
     "data": {
      "image/png": "[encoded data removed]",
      "text/plain": [
       "<Figure size 500x400 with 1 Axes>"
      ]
     },
     "metadata": {},
     "output_type": "display_data"
    },
    {
     "data": {
      "text/plain": [
       "<Figure size 1400x600 with 0 Axes>"
      ]
     },
     "metadata": {},
     "output_type": "display_data"
    }
   ],
   "source": [
    "#plotting training Accuracy and Validation Accuracy\n",
    "\n",
    "plt.figure(figsize=(5,4))\n",
    "plt.plot(epochs, accuracy_2, label = 'training accuracy')\n",
    "plt.plot(epochs, val_accuracy_2, label = 'validation accuracy')\n",
    "plt.title('Training and validation accuracy')\n",
    "plt.legend(loc = 'lower right')\n",
    "plt.figure()"
   ]
  },
  {
   "cell_type": "code",
   "execution_count": 78,
   "id": "12df28a9",
   "metadata": {},
   "outputs": [
    {
     "name": "stdout",
     "output_type": "stream",
     "text": [
      "13/13 [==============================] - 0s 1ms/step - loss: 1.1294 - accuracy: 0.4951\n",
      "30/30 [==============================] - 0s 1ms/step - loss: 1.0604 - accuracy: 0.5384\n",
      "Validation Loss: 1.1293535232543945    Validation accuracy: 0.4950980246067047\n"
     ]
    }
   ],
   "source": [
    "#displaying the final score and accuracy of the 1st model created in Step: 3A\n",
    "\n",
    "score, acc = model.evaluate(X_test,y_test_NN)\n",
    "score1, acc1 = model.evaluate(X_train,y_train_NN)\n",
    "\n",
    "print('Validation Loss:', score,'   Validation accuracy:', acc)\n"
   ]
  },
  {
   "cell_type": "code",
   "execution_count": 79,
   "id": "61ebc2a7",
   "metadata": {},
   "outputs": [
    {
     "name": "stdout",
     "output_type": "stream",
     "text": [
      "Train Loss: 1.0603686571121216    Train accuracy: 0.5383806228637695\n"
     ]
    }
   ],
   "source": [
    "print('Train Loss:', score1,'   Train accuracy:',acc1)"
   ]
  },
  {
   "cell_type": "code",
   "execution_count": 80,
   "id": "dd82cace",
   "metadata": {},
   "outputs": [
    {
     "name": "stdout",
     "output_type": "stream",
     "text": [
      "13/13 [==============================] - 0s 1ms/step - loss: 1.1124 - accuracy: 0.5539\n",
      "30/30 [==============================] - 0s 1ms/step - loss: 0.8829 - accuracy: 0.5889\n",
      "Validation Loss: 1.112404227256775    Validation accuracy: 0.5539215803146362\n"
     ]
    }
   ],
   "source": [
    "#displaying the final score and accuracy of the 2nd new NN architecture model created in Step: 3A\n",
    "\n",
    "score2, acc2 = new_model.evaluate(X_test,y_test_NN)\n",
    "score3, acc3 = new_model.evaluate(X_train,y_train_NN)\n",
    "\n",
    "print('Validation Loss:', score2,'   Validation accuracy:', acc2)"
   ]
  },
  {
   "cell_type": "code",
   "execution_count": 81,
   "id": "4763eb53",
   "metadata": {},
   "outputs": [
    {
     "name": "stdout",
     "output_type": "stream",
     "text": [
      "Train Loss: 0.8828730583190918    Train accuracy: 0.5888538360595703\n"
     ]
    }
   ],
   "source": [
    "print('Train Loss:', score3,'   Train accuracy:',acc3)"
   ]
  },
  {
   "cell_type": "code",
   "execution_count": 91,
   "id": "ceb1a420",
   "metadata": {},
   "outputs": [
    {
     "name": "stdout",
     "output_type": "stream",
     "text": [
      "Validation accuracy is achieved from 1st model designed is: 49.50980246067047 %\n",
      "Validation accuracy is achieved from 2nd new model designed is: 55.39215803146362 %\n"
     ]
    }
   ],
   "source": [
    "print(\"Validation accuracy is achieved from 1st model designed is:\", acc*100,\"%\")\n",
    "print(\"Validation accuracy is achieved from 2nd new model designed is:\", acc2*100, \"%\")"
   ]
  },
  {
   "cell_type": "code",
   "execution_count": 92,
   "id": "68b470c2",
   "metadata": {},
   "outputs": [
    {
     "name": "stdout",
     "output_type": "stream",
     "text": [
      "Difference between the accuracies perecentage achieved between new model & previous model is: 5.882355570793152 %\n"
     ]
    }
   ],
   "source": [
    "print(\"Difference between the accuracies perecentage achieved between new model & previous model is:\", (acc2-acc)*100,\"%\")"
   ]
  },
  {
   "cell_type": "code",
   "execution_count": 93,
   "id": "ec274f6c",
   "metadata": {},
   "outputs": [],
   "source": [
    "#Observation: Here, from the above accuracies comparison we can clearly say that the new NN model has\n",
    "# given better accuracy than previous NN model. The difference between the accuracies achieved is 5.8823%"
   ]
  },
  {
   "cell_type": "code",
   "execution_count": null,
   "id": "2867517e",
   "metadata": {},
   "outputs": [],
   "source": [
    "#**********************************************************************************************************************\n",
    "#**********************************************************************************************************************"
   ]
  },
  {
   "cell_type": "code",
   "execution_count": 99,
   "id": "7909255a",
   "metadata": {},
   "outputs": [],
   "source": [
    "#PART B:\n",
    "\n",
    "#Step: 1A\n",
    "#Reading the .h5 file and assign to a variable.\n",
    "\n",
    "#importing the necessary library.\n",
    "\n",
    "import h5py\n",
    "\n",
    "h5py.run_tests()\n",
    "\n",
    "hf = h5py.File('Autonomous_Vehicles_SVHN_single_grey1.h5', 'r')"
   ]
  },
  {
   "cell_type": "code",
   "execution_count": 100,
   "id": "87673e44",
   "metadata": {},
   "outputs": [
    {
     "data": {
      "text/plain": [
       "<KeysViewHDF5 ['X_test', 'X_train', 'X_val', 'y_test', 'y_train', 'y_val']>"
      ]
     },
     "execution_count": 100,
     "metadata": {},
     "output_type": "execute_result"
    }
   ],
   "source": [
    "#Step: 1B\n",
    "#Print all the keys from the .h5 file.\n",
    "\n",
    "hf.keys()"
   ]
  },
  {
   "cell_type": "code",
   "execution_count": 101,
   "id": "d61821ab",
   "metadata": {},
   "outputs": [],
   "source": [
    "#Step: 1C\n",
    "#Split the data into X_train, X_test, Y_train, Y_test.\n",
    "\n",
    "X_test = hf.get('X_test')\n",
    "X_train = hf.get('X_train')\n",
    "X_val = hf.get('X_val')\n",
    "y_test = hf.get('y_test')\n",
    "y_train = hf.get('y_train')\n",
    "y_val = hf.get('y_val')"
   ]
  },
  {
   "cell_type": "code",
   "execution_count": 102,
   "id": "59d149c0",
   "metadata": {},
   "outputs": [
    {
     "name": "stdout",
     "output_type": "stream",
     "text": [
      "shape of X_train is:  (42000, 32, 32)\n",
      "shape of X_test is:  (18000, 32, 32)\n",
      "shape of y_train is:  (42000,)\n",
      "shape of y_test is:  (18000,)\n"
     ]
    }
   ],
   "source": [
    "#Step: 2A\n",
    "#Print shape of all the 4 data split into x, y, train, test to verify if x & y is in sync\n",
    "\n",
    "print(\"shape of X_train is: \", X_train.shape)\n",
    "print(\"shape of X_test is: \", X_test.shape)\n",
    "print(\"shape of y_train is: \", y_train.shape)\n",
    "print(\"shape of y_test is: \", y_test.shape)"
   ]
  },
  {
   "cell_type": "code",
   "execution_count": 103,
   "id": "deabea12",
   "metadata": {},
   "outputs": [
    {
     "name": "stdout",
     "output_type": "stream",
     "text": [
      "shape of X_val is:  (60000, 32, 32)\n",
      "shape of y_val is:  (60000,)\n"
     ]
    }
   ],
   "source": [
    "print(\"shape of X_val is: \", X_val.shape)\n",
    "print(\"shape of y_val is: \", y_val.shape)"
   ]
  },
  {
   "cell_type": "code",
   "execution_count": 104,
   "id": "6513a275",
   "metadata": {},
   "outputs": [
    {
     "data": {
      "image/png": "[encoded data removed]",
      "text/plain": [
       "<Figure size 1000x100 with 10 Axes>"
      ]
     },
     "metadata": {},
     "output_type": "display_data"
    },
    {
     "name": "stdout",
     "output_type": "stream",
     "text": [
      "label for each of the above image: [2 6 7 4 4 0 3 0 7 3]\n"
     ]
    }
   ],
   "source": [
    "#Step: 2B\n",
    "#Visualise first 10 images in train data and print its corresponding labels.\n",
    "\n",
    "%matplotlib inline\n",
    "import matplotlib.pyplot as plt\n",
    "\n",
    "plt.figure(figsize=(10, 1))\n",
    "for i in range(10):\n",
    "    plt.subplot(1, 10, i+1)\n",
    "    plt.imshow(X_train[i], cmap=\"gray\")\n",
    "    plt.axis('off')\n",
    "plt.show()\n",
    "print('label for each of the above image: %s' % (y_train[0:10]))"
   ]
  },
  {
   "cell_type": "code",
   "execution_count": 105,
   "id": "58de58ef",
   "metadata": {},
   "outputs": [
    {
     "data": {
      "text/plain": [
       "array([2, 6, 7, 4, 0, 3, 1, 8, 5, 9], dtype=uint8)"
      ]
     },
     "execution_count": 105,
     "metadata": {},
     "output_type": "execute_result"
    }
   ],
   "source": [
    "pd.unique(y_train)"
   ]
  },
  {
   "cell_type": "code",
   "execution_count": 106,
   "id": "585714cf",
   "metadata": {},
   "outputs": [
    {
     "data": {
      "text/plain": [
       "dtype('<f4')"
      ]
     },
     "execution_count": 106,
     "metadata": {},
     "output_type": "execute_result"
    }
   ],
   "source": [
    "X_train.dtype"
   ]
  },
  {
   "cell_type": "code",
   "execution_count": 107,
   "id": "dba5b022",
   "metadata": {},
   "outputs": [
    {
     "data": {
      "text/plain": [
       "(42000, 32, 32)"
      ]
     },
     "execution_count": 107,
     "metadata": {},
     "output_type": "execute_result"
    }
   ],
   "source": [
    "X_train.shape"
   ]
  },
  {
   "cell_type": "code",
   "execution_count": 108,
   "id": "639189dd",
   "metadata": {},
   "outputs": [
    {
     "data": {
      "text/plain": [
       "dtype('<f4')"
      ]
     },
     "execution_count": 108,
     "metadata": {},
     "output_type": "execute_result"
    }
   ],
   "source": [
    "X_test.dtype"
   ]
  },
  {
   "cell_type": "code",
   "execution_count": 109,
   "id": "152c923a",
   "metadata": {},
   "outputs": [
    {
     "data": {
      "text/plain": [
       "(18000, 32, 32)"
      ]
     },
     "execution_count": 109,
     "metadata": {},
     "output_type": "execute_result"
    }
   ],
   "source": [
    "X_test.shape"
   ]
  },
  {
   "cell_type": "code",
   "execution_count": 110,
   "id": "0bbeb79f",
   "metadata": {},
   "outputs": [
    {
     "data": {
      "text/plain": [
       "dtype('uint8')"
      ]
     },
     "execution_count": 110,
     "metadata": {},
     "output_type": "execute_result"
    }
   ],
   "source": [
    "y_train.dtype"
   ]
  },
  {
   "cell_type": "code",
   "execution_count": 111,
   "id": "8883e4a5",
   "metadata": {},
   "outputs": [
    {
     "data": {
      "text/plain": [
       "(42000,)"
      ]
     },
     "execution_count": 111,
     "metadata": {},
     "output_type": "execute_result"
    }
   ],
   "source": [
    "y_train.shape"
   ]
  },
  {
   "cell_type": "code",
   "execution_count": 23,
   "id": "29b3e8e0",
   "metadata": {},
   "outputs": [
    {
     "data": {
      "text/plain": [
       "dtype('uint8')"
      ]
     },
     "execution_count": 23,
     "metadata": {},
     "output_type": "execute_result"
    }
   ],
   "source": [
    "y_test.dtype"
   ]
  },
  {
   "cell_type": "code",
   "execution_count": 112,
   "id": "b3934a9b",
   "metadata": {},
   "outputs": [
    {
     "data": {
      "text/plain": [
       "(18000,)"
      ]
     },
     "execution_count": 112,
     "metadata": {},
     "output_type": "execute_result"
    }
   ],
   "source": [
    "y_test.shape"
   ]
  },
  {
   "cell_type": "code",
   "execution_count": 119,
   "id": "211f9094",
   "metadata": {},
   "outputs": [
    {
     "name": "stdout",
     "output_type": "stream",
     "text": [
      "Training set (42000, 1024) (42000,)\n",
      "Test set (18000, 1024) (18000,)\n"
     ]
    }
   ],
   "source": [
    "#Step: 2C\n",
    "#Reshape all the images with appropriate shape update the data in same variable.\n",
    "\n",
    "#importing necessary libraries.\n",
    "\n",
    "import keras\n",
    "from tensorflow.keras.utils import to_categorical\n",
    "import warnings\n",
    "warnings.filterwarnings('ignore')\n",
    "\n",
    "# Flatten the images\n",
    "image_vector_size = 32*32\n",
    "\n",
    "X_train = np.array([np.array(val) for val in X_train])\n",
    "X_train = X_train.reshape(X_train.shape[0], image_vector_size)\n",
    "\n",
    "X_test = np.array([np.array(val) for val in X_test])\n",
    "X_test = X_test.reshape(X_test.shape[0], image_vector_size)\n",
    "\n",
    "#Step: 2D\n",
    "#Normalise the images i.e. Normalise the pixel values.\n",
    "\n",
    "# # normalize inputs from 0-255 to 0-1\n",
    "X_train = X_train.astype('float32') / 255\n",
    "X_test = X_test.astype('float32') / 255\n",
    "\n",
    "print('Training set', X_train.shape, y_train.shape)\n",
    "print('Test set', X_test.shape, y_test.shape)"
   ]
  },
  {
   "cell_type": "code",
   "execution_count": 120,
   "id": "645a4eb1",
   "metadata": {},
   "outputs": [
    {
     "data": {
      "text/plain": [
       "array([0.34101608, 0.3414451 , 0.34656274, ..., 0.29498273, 0.30054745,\n",
       "       0.31092745], dtype=float32)"
      ]
     },
     "execution_count": 120,
     "metadata": {},
     "output_type": "execute_result"
    }
   ],
   "source": [
    "X_train[1]"
   ]
  },
  {
   "cell_type": "code",
   "execution_count": 134,
   "id": "6ff3b6e9",
   "metadata": {},
   "outputs": [],
   "source": [
    "y_train = y_train.astype('float32')"
   ]
  },
  {
   "cell_type": "code",
   "execution_count": 136,
   "id": "97b3b6c2",
   "metadata": {},
   "outputs": [],
   "source": [
    "y_test = y_test.astype('float32')"
   ]
  },
  {
   "cell_type": "code",
   "execution_count": 137,
   "id": "0a5d13c1",
   "metadata": {},
   "outputs": [
    {
     "data": {
      "text/plain": [
       "array([0.45161137, 0.44769022, 0.44376904, ..., 0.1652502 , 0.18922432,\n",
       "       0.20883021], dtype=float32)"
      ]
     },
     "execution_count": 137,
     "metadata": {},
     "output_type": "execute_result"
    }
   ],
   "source": [
    "X_test[1]"
   ]
  },
  {
   "cell_type": "code",
   "execution_count": 138,
   "id": "cdbf3fd2",
   "metadata": {},
   "outputs": [
    {
     "data": {
      "text/plain": [
       "7.0"
      ]
     },
     "execution_count": 138,
     "metadata": {},
     "output_type": "execute_result"
    }
   ],
   "source": [
    "y_test[1]"
   ]
  },
  {
   "cell_type": "code",
   "execution_count": 139,
   "id": "2d8d3ce5",
   "metadata": {},
   "outputs": [
    {
     "data": {
      "text/plain": [
       "dtype('float32')"
      ]
     },
     "execution_count": 139,
     "metadata": {},
     "output_type": "execute_result"
    }
   ],
   "source": [
    "X_test.dtype"
   ]
  },
  {
   "cell_type": "code",
   "execution_count": 140,
   "id": "bf185603",
   "metadata": {},
   "outputs": [
    {
     "data": {
      "text/plain": [
       "dtype('float32')"
      ]
     },
     "execution_count": 140,
     "metadata": {},
     "output_type": "execute_result"
    }
   ],
   "source": [
    "y_test.dtype"
   ]
  },
  {
   "cell_type": "code",
   "execution_count": 141,
   "id": "f95c8184",
   "metadata": {},
   "outputs": [
    {
     "data": {
      "text/plain": [
       "dtype('float32')"
      ]
     },
     "execution_count": 141,
     "metadata": {},
     "output_type": "execute_result"
    }
   ],
   "source": [
    "y_train.dtype"
   ]
  },
  {
   "cell_type": "code",
   "execution_count": 142,
   "id": "85c3c997",
   "metadata": {},
   "outputs": [],
   "source": [
    "y_train = np.array(y_train)\n",
    "y_test = np.array(y_test)\n"
   ]
  },
  {
   "cell_type": "code",
   "execution_count": 143,
   "id": "40d8ee97",
   "metadata": {},
   "outputs": [
    {
     "data": {
      "text/plain": [
       "(42000,)"
      ]
     },
     "execution_count": 143,
     "metadata": {},
     "output_type": "execute_result"
    }
   ],
   "source": [
    "y_train.shape"
   ]
  },
  {
   "cell_type": "code",
   "execution_count": 144,
   "id": "7375e9da",
   "metadata": {},
   "outputs": [
    {
     "data": {
      "text/plain": [
       "dtype('float32')"
      ]
     },
     "execution_count": 144,
     "metadata": {},
     "output_type": "execute_result"
    }
   ],
   "source": [
    "y_train.dtype"
   ]
  },
  {
   "cell_type": "code",
   "execution_count": 145,
   "id": "6aed55b7",
   "metadata": {},
   "outputs": [
    {
     "data": {
      "text/plain": [
       "dtype('float32')"
      ]
     },
     "execution_count": 145,
     "metadata": {},
     "output_type": "execute_result"
    }
   ],
   "source": [
    "y_test.dtype"
   ]
  },
  {
   "cell_type": "code",
   "execution_count": 146,
   "id": "7d12a799",
   "metadata": {},
   "outputs": [
    {
     "data": {
      "text/plain": [
       "6.0"
      ]
     },
     "execution_count": 146,
     "metadata": {},
     "output_type": "execute_result"
    }
   ],
   "source": [
    "y_train[1]"
   ]
  },
  {
   "cell_type": "code",
   "execution_count": 147,
   "id": "4f125900",
   "metadata": {},
   "outputs": [
    {
     "data": {
      "text/plain": [
       "7.0"
      ]
     },
     "execution_count": 147,
     "metadata": {},
     "output_type": "execute_result"
    }
   ],
   "source": [
    "y_test[1]"
   ]
  },
  {
   "cell_type": "code",
   "execution_count": 148,
   "id": "f24d70a5",
   "metadata": {},
   "outputs": [
    {
     "data": {
      "text/plain": [
       "array([2., 6., 7., ..., 7., 0., 4.], dtype=float32)"
      ]
     },
     "execution_count": 148,
     "metadata": {},
     "output_type": "execute_result"
    }
   ],
   "source": [
    "y_train"
   ]
  },
  {
   "cell_type": "code",
   "execution_count": 149,
   "id": "37b3f259",
   "metadata": {},
   "outputs": [
    {
     "data": {
      "text/plain": [
       "array([1., 7., 2., ..., 7., 9., 2.], dtype=float32)"
      ]
     },
     "execution_count": 149,
     "metadata": {},
     "output_type": "execute_result"
    }
   ],
   "source": [
    "y_test"
   ]
  },
  {
   "cell_type": "code",
   "execution_count": 150,
   "id": "d8dc8644",
   "metadata": {},
   "outputs": [],
   "source": [
    "#Step: 2E\n",
    "#Transform Labels into format acceptable by Neural Network.\n",
    "\n",
    "y_train_N = pd.get_dummies(y_train)\n",
    "y_test_N = pd.get_dummies(y_test)"
   ]
  },
  {
   "cell_type": "code",
   "execution_count": 151,
   "id": "62ce5e02",
   "metadata": {},
   "outputs": [
    {
     "data": {
      "text/html": [
       "<div>\n",
       "<style scoped>\n",
       "    .dataframe tbody tr th:only-of-type {\n",
       "        vertical-align: middle;\n",
       "    }\n",
       "\n",
       "    .dataframe tbody tr th {\n",
       "        vertical-align: top;\n",
       "    }\n",
       "\n",
       "    .dataframe thead th {\n",
       "        text-align: right;\n",
       "    }\n",
       "</style>\n",
       "<table border=\"1\" class=\"dataframe\">\n",
       "  <thead>\n",
       "    <tr style=\"text-align: right;\">\n",
       "      <th></th>\n",
       "      <th>0.0</th>\n",
       "      <th>1.0</th>\n",
       "      <th>2.0</th>\n",
       "      <th>3.0</th>\n",
       "      <th>4.0</th>\n",
       "      <th>5.0</th>\n",
       "      <th>6.0</th>\n",
       "      <th>7.0</th>\n",
       "      <th>8.0</th>\n",
       "      <th>9.0</th>\n",
       "    </tr>\n",
       "  </thead>\n",
       "  <tbody>\n",
       "    <tr>\n",
       "      <th>0</th>\n",
       "      <td>False</td>\n",
       "      <td>False</td>\n",
       "      <td>True</td>\n",
       "      <td>False</td>\n",
       "      <td>False</td>\n",
       "      <td>False</td>\n",
       "      <td>False</td>\n",
       "      <td>False</td>\n",
       "      <td>False</td>\n",
       "      <td>False</td>\n",
       "    </tr>\n",
       "    <tr>\n",
       "      <th>1</th>\n",
       "      <td>False</td>\n",
       "      <td>False</td>\n",
       "      <td>False</td>\n",
       "      <td>False</td>\n",
       "      <td>False</td>\n",
       "      <td>False</td>\n",
       "      <td>True</td>\n",
       "      <td>False</td>\n",
       "      <td>False</td>\n",
       "      <td>False</td>\n",
       "    </tr>\n",
       "    <tr>\n",
       "      <th>2</th>\n",
       "      <td>False</td>\n",
       "      <td>False</td>\n",
       "      <td>False</td>\n",
       "      <td>False</td>\n",
       "      <td>False</td>\n",
       "      <td>False</td>\n",
       "      <td>False</td>\n",
       "      <td>True</td>\n",
       "      <td>False</td>\n",
       "      <td>False</td>\n",
       "    </tr>\n",
       "    <tr>\n",
       "      <th>3</th>\n",
       "      <td>False</td>\n",
       "      <td>False</td>\n",
       "      <td>False</td>\n",
       "      <td>False</td>\n",
       "      <td>True</td>\n",
       "      <td>False</td>\n",
       "      <td>False</td>\n",
       "      <td>False</td>\n",
       "      <td>False</td>\n",
       "      <td>False</td>\n",
       "    </tr>\n",
       "    <tr>\n",
       "      <th>4</th>\n",
       "      <td>False</td>\n",
       "      <td>False</td>\n",
       "      <td>False</td>\n",
       "      <td>False</td>\n",
       "      <td>True</td>\n",
       "      <td>False</td>\n",
       "      <td>False</td>\n",
       "      <td>False</td>\n",
       "      <td>False</td>\n",
       "      <td>False</td>\n",
       "    </tr>\n",
       "    <tr>\n",
       "      <th>...</th>\n",
       "      <td>...</td>\n",
       "      <td>...</td>\n",
       "      <td>...</td>\n",
       "      <td>...</td>\n",
       "      <td>...</td>\n",
       "      <td>...</td>\n",
       "      <td>...</td>\n",
       "      <td>...</td>\n",
       "      <td>...</td>\n",
       "      <td>...</td>\n",
       "    </tr>\n",
       "    <tr>\n",
       "      <th>41995</th>\n",
       "      <td>False</td>\n",
       "      <td>False</td>\n",
       "      <td>False</td>\n",
       "      <td>False</td>\n",
       "      <td>False</td>\n",
       "      <td>False</td>\n",
       "      <td>False</td>\n",
       "      <td>True</td>\n",
       "      <td>False</td>\n",
       "      <td>False</td>\n",
       "    </tr>\n",
       "    <tr>\n",
       "      <th>41996</th>\n",
       "      <td>False</td>\n",
       "      <td>False</td>\n",
       "      <td>False</td>\n",
       "      <td>False</td>\n",
       "      <td>False</td>\n",
       "      <td>True</td>\n",
       "      <td>False</td>\n",
       "      <td>False</td>\n",
       "      <td>False</td>\n",
       "      <td>False</td>\n",
       "    </tr>\n",
       "    <tr>\n",
       "      <th>41997</th>\n",
       "      <td>False</td>\n",
       "      <td>False</td>\n",
       "      <td>False</td>\n",
       "      <td>False</td>\n",
       "      <td>False</td>\n",
       "      <td>False</td>\n",
       "      <td>False</td>\n",
       "      <td>True</td>\n",
       "      <td>False</td>\n",
       "      <td>False</td>\n",
       "    </tr>\n",
       "    <tr>\n",
       "      <th>41998</th>\n",
       "      <td>True</td>\n",
       "      <td>False</td>\n",
       "      <td>False</td>\n",
       "      <td>False</td>\n",
       "      <td>False</td>\n",
       "      <td>False</td>\n",
       "      <td>False</td>\n",
       "      <td>False</td>\n",
       "      <td>False</td>\n",
       "      <td>False</td>\n",
       "    </tr>\n",
       "    <tr>\n",
       "      <th>41999</th>\n",
       "      <td>False</td>\n",
       "      <td>False</td>\n",
       "      <td>False</td>\n",
       "      <td>False</td>\n",
       "      <td>True</td>\n",
       "      <td>False</td>\n",
       "      <td>False</td>\n",
       "      <td>False</td>\n",
       "      <td>False</td>\n",
       "      <td>False</td>\n",
       "    </tr>\n",
       "  </tbody>\n",
       "</table>\n",
       "<p>42000 rows × 10 columns</p>\n",
       "</div>"
      ],
      "text/plain": [
       "         0.0    1.0    2.0    3.0    4.0    5.0    6.0    7.0    8.0    9.0\n",
       "0      False  False   True  False  False  False  False  False  False  False\n",
       "1      False  False  False  False  False  False   True  False  False  False\n",
       "2      False  False  False  False  False  False  False   True  False  False\n",
       "3      False  False  False  False   True  False  False  False  False  False\n",
       "4      False  False  False  False   True  False  False  False  False  False\n",
       "...      ...    ...    ...    ...    ...    ...    ...    ...    ...    ...\n",
       "41995  False  False  False  False  False  False  False   True  False  False\n",
       "41996  False  False  False  False  False   True  False  False  False  False\n",
       "41997  False  False  False  False  False  False  False   True  False  False\n",
       "41998   True  False  False  False  False  False  False  False  False  False\n",
       "41999  False  False  False  False   True  False  False  False  False  False\n",
       "\n",
       "[42000 rows x 10 columns]"
      ]
     },
     "execution_count": 151,
     "metadata": {},
     "output_type": "execute_result"
    }
   ],
   "source": [
    "y_train_N"
   ]
  },
  {
   "cell_type": "code",
   "execution_count": 152,
   "id": "fa93903b",
   "metadata": {},
   "outputs": [
    {
     "data": {
      "text/html": [
       "<div>\n",
       "<style scoped>\n",
       "    .dataframe tbody tr th:only-of-type {\n",
       "        vertical-align: middle;\n",
       "    }\n",
       "\n",
       "    .dataframe tbody tr th {\n",
       "        vertical-align: top;\n",
       "    }\n",
       "\n",
       "    .dataframe thead th {\n",
       "        text-align: right;\n",
       "    }\n",
       "</style>\n",
       "<table border=\"1\" class=\"dataframe\">\n",
       "  <thead>\n",
       "    <tr style=\"text-align: right;\">\n",
       "      <th></th>\n",
       "      <th>0.0</th>\n",
       "      <th>1.0</th>\n",
       "      <th>2.0</th>\n",
       "      <th>3.0</th>\n",
       "      <th>4.0</th>\n",
       "      <th>5.0</th>\n",
       "      <th>6.0</th>\n",
       "      <th>7.0</th>\n",
       "      <th>8.0</th>\n",
       "      <th>9.0</th>\n",
       "    </tr>\n",
       "  </thead>\n",
       "  <tbody>\n",
       "    <tr>\n",
       "      <th>0</th>\n",
       "      <td>False</td>\n",
       "      <td>True</td>\n",
       "      <td>False</td>\n",
       "      <td>False</td>\n",
       "      <td>False</td>\n",
       "      <td>False</td>\n",
       "      <td>False</td>\n",
       "      <td>False</td>\n",
       "      <td>False</td>\n",
       "      <td>False</td>\n",
       "    </tr>\n",
       "    <tr>\n",
       "      <th>1</th>\n",
       "      <td>False</td>\n",
       "      <td>False</td>\n",
       "      <td>False</td>\n",
       "      <td>False</td>\n",
       "      <td>False</td>\n",
       "      <td>False</td>\n",
       "      <td>False</td>\n",
       "      <td>True</td>\n",
       "      <td>False</td>\n",
       "      <td>False</td>\n",
       "    </tr>\n",
       "    <tr>\n",
       "      <th>2</th>\n",
       "      <td>False</td>\n",
       "      <td>False</td>\n",
       "      <td>True</td>\n",
       "      <td>False</td>\n",
       "      <td>False</td>\n",
       "      <td>False</td>\n",
       "      <td>False</td>\n",
       "      <td>False</td>\n",
       "      <td>False</td>\n",
       "      <td>False</td>\n",
       "    </tr>\n",
       "    <tr>\n",
       "      <th>3</th>\n",
       "      <td>False</td>\n",
       "      <td>False</td>\n",
       "      <td>False</td>\n",
       "      <td>False</td>\n",
       "      <td>False</td>\n",
       "      <td>False</td>\n",
       "      <td>False</td>\n",
       "      <td>False</td>\n",
       "      <td>False</td>\n",
       "      <td>True</td>\n",
       "    </tr>\n",
       "    <tr>\n",
       "      <th>4</th>\n",
       "      <td>True</td>\n",
       "      <td>False</td>\n",
       "      <td>False</td>\n",
       "      <td>False</td>\n",
       "      <td>False</td>\n",
       "      <td>False</td>\n",
       "      <td>False</td>\n",
       "      <td>False</td>\n",
       "      <td>False</td>\n",
       "      <td>False</td>\n",
       "    </tr>\n",
       "    <tr>\n",
       "      <th>...</th>\n",
       "      <td>...</td>\n",
       "      <td>...</td>\n",
       "      <td>...</td>\n",
       "      <td>...</td>\n",
       "      <td>...</td>\n",
       "      <td>...</td>\n",
       "      <td>...</td>\n",
       "      <td>...</td>\n",
       "      <td>...</td>\n",
       "      <td>...</td>\n",
       "    </tr>\n",
       "    <tr>\n",
       "      <th>17995</th>\n",
       "      <td>False</td>\n",
       "      <td>False</td>\n",
       "      <td>False</td>\n",
       "      <td>False</td>\n",
       "      <td>False</td>\n",
       "      <td>False</td>\n",
       "      <td>False</td>\n",
       "      <td>False</td>\n",
       "      <td>False</td>\n",
       "      <td>True</td>\n",
       "    </tr>\n",
       "    <tr>\n",
       "      <th>17996</th>\n",
       "      <td>False</td>\n",
       "      <td>True</td>\n",
       "      <td>False</td>\n",
       "      <td>False</td>\n",
       "      <td>False</td>\n",
       "      <td>False</td>\n",
       "      <td>False</td>\n",
       "      <td>False</td>\n",
       "      <td>False</td>\n",
       "      <td>False</td>\n",
       "    </tr>\n",
       "    <tr>\n",
       "      <th>17997</th>\n",
       "      <td>False</td>\n",
       "      <td>False</td>\n",
       "      <td>False</td>\n",
       "      <td>False</td>\n",
       "      <td>False</td>\n",
       "      <td>False</td>\n",
       "      <td>False</td>\n",
       "      <td>True</td>\n",
       "      <td>False</td>\n",
       "      <td>False</td>\n",
       "    </tr>\n",
       "    <tr>\n",
       "      <th>17998</th>\n",
       "      <td>False</td>\n",
       "      <td>False</td>\n",
       "      <td>False</td>\n",
       "      <td>False</td>\n",
       "      <td>False</td>\n",
       "      <td>False</td>\n",
       "      <td>False</td>\n",
       "      <td>False</td>\n",
       "      <td>False</td>\n",
       "      <td>True</td>\n",
       "    </tr>\n",
       "    <tr>\n",
       "      <th>17999</th>\n",
       "      <td>False</td>\n",
       "      <td>False</td>\n",
       "      <td>True</td>\n",
       "      <td>False</td>\n",
       "      <td>False</td>\n",
       "      <td>False</td>\n",
       "      <td>False</td>\n",
       "      <td>False</td>\n",
       "      <td>False</td>\n",
       "      <td>False</td>\n",
       "    </tr>\n",
       "  </tbody>\n",
       "</table>\n",
       "<p>18000 rows × 10 columns</p>\n",
       "</div>"
      ],
      "text/plain": [
       "         0.0    1.0    2.0    3.0    4.0    5.0    6.0    7.0    8.0    9.0\n",
       "0      False   True  False  False  False  False  False  False  False  False\n",
       "1      False  False  False  False  False  False  False   True  False  False\n",
       "2      False  False   True  False  False  False  False  False  False  False\n",
       "3      False  False  False  False  False  False  False  False  False   True\n",
       "4       True  False  False  False  False  False  False  False  False  False\n",
       "...      ...    ...    ...    ...    ...    ...    ...    ...    ...    ...\n",
       "17995  False  False  False  False  False  False  False  False  False   True\n",
       "17996  False   True  False  False  False  False  False  False  False  False\n",
       "17997  False  False  False  False  False  False  False   True  False  False\n",
       "17998  False  False  False  False  False  False  False  False  False   True\n",
       "17999  False  False   True  False  False  False  False  False  False  False\n",
       "\n",
       "[18000 rows x 10 columns]"
      ]
     },
     "execution_count": 152,
     "metadata": {},
     "output_type": "execute_result"
    }
   ],
   "source": [
    "y_test_N"
   ]
  },
  {
   "cell_type": "code",
   "execution_count": 153,
   "id": "f49298d9",
   "metadata": {},
   "outputs": [
    {
     "data": {
      "text/plain": [
       "(42000, 1024)"
      ]
     },
     "execution_count": 153,
     "metadata": {},
     "output_type": "execute_result"
    }
   ],
   "source": [
    "X_train.shape"
   ]
  },
  {
   "cell_type": "code",
   "execution_count": 155,
   "id": "c2f465e4",
   "metadata": {},
   "outputs": [
    {
     "data": {
      "text/plain": [
       "(42000, 10)"
      ]
     },
     "execution_count": 155,
     "metadata": {},
     "output_type": "execute_result"
    }
   ],
   "source": [
    "y_train_N.shape"
   ]
  },
  {
   "cell_type": "code",
   "execution_count": 156,
   "id": "472a6e54",
   "metadata": {},
   "outputs": [
    {
     "data": {
      "text/plain": [
       "(18000, 1024)"
      ]
     },
     "execution_count": 156,
     "metadata": {},
     "output_type": "execute_result"
    }
   ],
   "source": [
    "X_test.shape"
   ]
  },
  {
   "cell_type": "code",
   "execution_count": 157,
   "id": "d89f91f0",
   "metadata": {},
   "outputs": [
    {
     "data": {
      "text/plain": [
       "(18000, 10)"
      ]
     },
     "execution_count": 157,
     "metadata": {},
     "output_type": "execute_result"
    }
   ],
   "source": [
    "y_test_N.shape"
   ]
  },
  {
   "cell_type": "code",
   "execution_count": 158,
   "id": "67c844ac",
   "metadata": {},
   "outputs": [
    {
     "name": "stdout",
     "output_type": "stream",
     "text": [
      "Diffeent Classes present in the dataset are:  [2 6 7 4 0 3 1 8 5 9]\n",
      "total number of classes in the dataset are:  10\n"
     ]
    }
   ],
   "source": [
    "#Step: 2F\n",
    "#Print total Number of classes in the Dataset.\n",
    "\n",
    "total_classes = hf.get('y_train')\n",
    "print(\"Diffeent Classes present in the dataset are: \", pd.unique(total_classes))\n",
    "\n",
    "n = len(pd.unique(total_classes))\n",
    "print(\"total number of classes in the dataset are: \", n)"
   ]
  },
  {
   "cell_type": "code",
   "execution_count": 83,
   "id": "021a925c",
   "metadata": {},
   "outputs": [
    {
     "data": {
      "text/plain": [
       "dtype('float32')"
      ]
     },
     "execution_count": 83,
     "metadata": {},
     "output_type": "execute_result"
    }
   ],
   "source": [
    "#checking the datatype of the datasets.\n",
    "X_train.dtype"
   ]
  },
  {
   "cell_type": "code",
   "execution_count": 84,
   "id": "4d298abe",
   "metadata": {},
   "outputs": [
    {
     "data": {
      "text/plain": [
       "dtype('float32')"
      ]
     },
     "execution_count": 84,
     "metadata": {},
     "output_type": "execute_result"
    }
   ],
   "source": [
    "X_test.dtype"
   ]
  },
  {
   "cell_type": "code",
   "execution_count": 85,
   "id": "b57be0d4",
   "metadata": {},
   "outputs": [
    {
     "data": {
      "text/plain": [
       "(42000, 32, 32, 1)"
      ]
     },
     "execution_count": 85,
     "metadata": {},
     "output_type": "execute_result"
    }
   ],
   "source": [
    "X_train.shape"
   ]
  },
  {
   "cell_type": "code",
   "execution_count": 93,
   "id": "61bff353",
   "metadata": {},
   "outputs": [
    {
     "data": {
      "text/plain": [
       "(42000, 10)"
      ]
     },
     "execution_count": 93,
     "metadata": {},
     "output_type": "execute_result"
    }
   ],
   "source": [
    "y_train_N.shape"
   ]
  },
  {
   "cell_type": "code",
   "execution_count": 173,
   "id": "fe1fdfed",
   "metadata": {},
   "outputs": [],
   "source": [
    "#PART: 3A\n",
    "#Design a Neural Network to train a classifier\n",
    "\n",
    "# define model\n",
    "import cv2\n",
    "import tensorflow as tf\n",
    "from tensorflow.keras import layers\n",
    "from tensorflow.keras import optimizers\n",
    "from tensorflow.keras import models\n",
    "from keras.callbacks import ModelCheckpoint, EarlyStopping, ReduceLROnPlateau\n",
    "from keras.models import load_model\n",
    "from keras.preprocessing import image\n",
    "\n",
    "\n",
    "from tensorflow.keras import losses\n",
    "from tensorflow.keras import optimizers\n",
    "from tensorflow.keras import Sequential\n",
    "from tensorflow.keras.layers import Dense\n",
    "\n",
    "# create model\n",
    "model = Sequential()  \n",
    "\n",
    "model.add(Dense(256, activation='relu',input_shape=(X_train[0].shape)))\n",
    "\n",
    "model.add(Dense(128, activation='relu'))\n",
    "model.add(BatchNormalization())\n",
    "model.add(Dropout(rate=0.1))\n",
    "\n",
    "model.add(Dense(64, activation='relu'))\n",
    "\n",
    "model.add(Dense(64, activation='relu'))\n",
    "model.add(BatchNormalization())\n",
    "model.add(Dropout(rate=0.1))\n",
    "\n",
    "model.add(Dense(32, activation='relu'))\n",
    "\n",
    "model.add(Dense(10, activation='softmax'))"
   ]
  },
  {
   "cell_type": "code",
   "execution_count": 174,
   "id": "b3cf0827",
   "metadata": {},
   "outputs": [],
   "source": [
    "#PART: 3B\n",
    "#Train the classifier using previously designed Architecture\n",
    "\n",
    "# Compile model\n",
    "#RMS_prop=optimizers.RMSprop()\n",
    "#adam = optimizers.Adam(lr=1e-3)\n",
    "\n",
    "opt = optimizers.Adam(learning_rate= 0.001)\n",
    "model.compile(optimizer = opt, loss = 'categorical_crossentropy',metrics=['accuracy'])"
   ]
  },
  {
   "cell_type": "code",
   "execution_count": 175,
   "id": "f9454d5a",
   "metadata": {},
   "outputs": [
    {
     "name": "stdout",
     "output_type": "stream",
     "text": [
      "Model: \"sequential_5\"\n",
      "_________________________________________________________________\n",
      " Layer (type)                Output Shape              Param #   \n",
      "=================================================================\n",
      " dense_26 (Dense)            (None, 256)               262400    \n",
      "                                                                 \n",
      " dense_27 (Dense)            (None, 128)               32896     \n",
      "                                                                 \n",
      " batch_normalization (BatchN  (None, 128)              512       \n",
      " ormalization)                                                   \n",
      "                                                                 \n",
      " dropout_4 (Dropout)         (None, 128)               0         \n",
      "                                                                 \n",
      " dense_28 (Dense)            (None, 64)                8256      \n",
      "                                                                 \n",
      " dense_29 (Dense)            (None, 64)                4160      \n",
      "                                                                 \n",
      " batch_normalization_1 (Batc  (None, 64)               256       \n",
      " hNormalization)                                                 \n",
      "                                                                 \n",
      " dropout_5 (Dropout)         (None, 64)                0         \n",
      "                                                                 \n",
      " dense_30 (Dense)            (None, 32)                2080      \n",
      "                                                                 \n",
      " dense_31 (Dense)            (None, 10)                330       \n",
      "                                                                 \n",
      "=================================================================\n",
      "Total params: 310,890\n",
      "Trainable params: 310,506\n",
      "Non-trainable params: 384\n",
      "_________________________________________________________________\n"
     ]
    }
   ],
   "source": [
    "## Looking into our base model\n",
    "model.summary()"
   ]
  },
  {
   "cell_type": "code",
   "execution_count": 224,
   "id": "3117bce7",
   "metadata": {},
   "outputs": [],
   "source": []
  },
  {
   "cell_type": "code",
   "execution_count": 176,
   "id": "59e38583",
   "metadata": {},
   "outputs": [
    {
     "name": "stdout",
     "output_type": "stream",
     "text": [
      "Epoch 1/20\n",
      "2625/2625 [==============================] - 9s 3ms/step - loss: 2.0183 - accuracy: 0.2532 - val_loss: 2.8000 - val_accuracy: 0.1632\n",
      "Epoch 2/20\n",
      "2625/2625 [==============================] - 8s 3ms/step - loss: 1.6110 - accuracy: 0.4346 - val_loss: 1.4959 - val_accuracy: 0.4806\n",
      "Epoch 3/20\n",
      "2625/2625 [==============================] - 8s 3ms/step - loss: 1.4315 - accuracy: 0.5220 - val_loss: 1.9431 - val_accuracy: 0.3642\n",
      "Epoch 4/20\n",
      "2625/2625 [==============================] - 8s 3ms/step - loss: 1.3319 - accuracy: 0.5657 - val_loss: 1.5954 - val_accuracy: 0.4663\n",
      "Epoch 5/20\n",
      "2625/2625 [==============================] - 8s 3ms/step - loss: 1.2812 - accuracy: 0.5873 - val_loss: 1.3117 - val_accuracy: 0.5792\n",
      "Epoch 6/20\n",
      "2625/2625 [==============================] - 8s 3ms/step - loss: 1.2429 - accuracy: 0.6000 - val_loss: 1.2785 - val_accuracy: 0.5785\n",
      "Epoch 7/20\n",
      "2625/2625 [==============================] - 9s 3ms/step - loss: 1.2216 - accuracy: 0.6100 - val_loss: 1.1116 - val_accuracy: 0.6381\n",
      "Epoch 8/20\n",
      "2625/2625 [==============================] - 8s 3ms/step - loss: 1.1679 - accuracy: 0.6315 - val_loss: 1.1937 - val_accuracy: 0.6129\n",
      "Epoch 9/20\n",
      "2625/2625 [==============================] - 9s 3ms/step - loss: 1.1299 - accuracy: 0.6446 - val_loss: 0.9896 - val_accuracy: 0.6882\n",
      "Epoch 10/20\n",
      "2625/2625 [==============================] - 9s 4ms/step - loss: 1.0899 - accuracy: 0.6579 - val_loss: 1.0840 - val_accuracy: 0.6534\n",
      "Epoch 11/20\n",
      "2625/2625 [==============================] - 9s 4ms/step - loss: 1.0658 - accuracy: 0.6679 - val_loss: 1.0693 - val_accuracy: 0.6607\n",
      "Epoch 12/20\n",
      "2625/2625 [==============================] - 10s 4ms/step - loss: 1.0562 - accuracy: 0.6699 - val_loss: 1.0172 - val_accuracy: 0.6778\n",
      "Epoch 13/20\n",
      "2625/2625 [==============================] - 9s 4ms/step - loss: 1.0347 - accuracy: 0.6747 - val_loss: 0.9922 - val_accuracy: 0.6845\n",
      "Epoch 14/20\n",
      "2625/2625 [==============================] - 9s 4ms/step - loss: 1.0188 - accuracy: 0.6817 - val_loss: 1.0023 - val_accuracy: 0.6874\n",
      "Epoch 15/20\n",
      "2625/2625 [==============================] - 10s 4ms/step - loss: 1.0124 - accuracy: 0.6833 - val_loss: 1.0437 - val_accuracy: 0.6749\n",
      "Epoch 16/20\n",
      "2625/2625 [==============================] - 9s 4ms/step - loss: 1.0057 - accuracy: 0.6852 - val_loss: 0.9849 - val_accuracy: 0.6911\n",
      "Epoch 17/20\n",
      "2625/2625 [==============================] - 10s 4ms/step - loss: 1.0048 - accuracy: 0.6866 - val_loss: 1.0220 - val_accuracy: 0.6798\n",
      "Epoch 18/20\n",
      "2625/2625 [==============================] - 9s 3ms/step - loss: 0.9878 - accuracy: 0.6911 - val_loss: 0.9352 - val_accuracy: 0.7003\n",
      "Epoch 19/20\n",
      "2625/2625 [==============================] - 9s 4ms/step - loss: 0.9794 - accuracy: 0.6952 - val_loss: 0.8917 - val_accuracy: 0.7221\n",
      "Epoch 20/20\n",
      "2625/2625 [==============================] - 9s 4ms/step - loss: 0.9667 - accuracy: 0.6992 - val_loss: 0.8816 - val_accuracy: 0.7230\n"
     ]
    }
   ],
   "source": [
    "history_4 = model.fit(X_train, y_train_N, batch_size = 16, epochs = 20, validation_data=(X_test, y_test_N))"
   ]
  },
  {
   "cell_type": "code",
   "execution_count": 179,
   "id": "87dbe2d3",
   "metadata": {},
   "outputs": [
    {
     "name": "stdout",
     "output_type": "stream",
     "text": [
      "563/563 [==============================] - 1s 2ms/step - loss: 0.8816 - accuracy: 0.7230\n",
      "Validation Loss: 0.8815762400627136    Validation accuracy: 0.7229999899864197\n"
     ]
    }
   ],
   "source": [
    "#Step: 3C\n",
    "#Evaluate performance of the model with appropriate metrics.\n",
    "\n",
    "score, acc = model.evaluate(X_test,y_test_N)\n",
    "\n",
    "print('Validation Loss:', score,'   Validation accuracy:', acc)"
   ]
  },
  {
   "cell_type": "code",
   "execution_count": null,
   "id": "4af7df37",
   "metadata": {},
   "outputs": [],
   "source": [
    "#Observation: The validation accuracy achieved is 72.29% with total epochs = 20 & batch size = 16.\n",
    "# whereas the validation loss reduced to 0.88%."
   ]
  },
  {
   "cell_type": "code",
   "execution_count": 178,
   "id": "1060646a",
   "metadata": {},
   "outputs": [
    {
     "name": "stdout",
     "output_type": "stream",
     "text": [
      "1313/1313 [==============================] - 2s 2ms/step - loss: 0.8411 - accuracy: 0.7298\n",
      "Train Loss: 0.8411014676094055    Train accuracy: 0.7297857403755188\n"
     ]
    }
   ],
   "source": [
    "score1, acc1 = model.evaluate(X_train,y_train_N)\n",
    "\n",
    "print('Train Loss:', score1,'   Train accuracy:',acc1)"
   ]
  },
  {
   "cell_type": "code",
   "execution_count": null,
   "id": "383fc765",
   "metadata": {},
   "outputs": [],
   "source": [
    "#Observation: The training accuracy achieved is 72.97% with total epochs = 20 & batch size = 16.\n",
    "#whereas the training loss reduced to 0.84%."
   ]
  },
  {
   "cell_type": "code",
   "execution_count": 180,
   "id": "a904bb2d",
   "metadata": {},
   "outputs": [
    {
     "data": {
      "text/plain": [
       "Text(0.5, 1.0, 'Training and validation loss')"
      ]
     },
     "execution_count": 180,
     "metadata": {},
     "output_type": "execute_result"
    },
    {
     "data": {
      "image/png": "[encoded data removed]",
      "text/plain": [
       "<Figure size 500x400 with 1 Axes>"
      ]
     },
     "metadata": {},
     "output_type": "display_data"
    }
   ],
   "source": [
    "#Step: 3D\n",
    "\n",
    "#Plot the training loss, validation loss vs number of epochs and\n",
    "# training accuracy, validation accuracy vs number of epochs plot and write your observations on the same.\n",
    "\n",
    "#plotting Training Loss and Validation Loss.\n",
    "\n",
    "accuracy_4 = history_4.history['accuracy']\n",
    "val_accuracy_4 = history_4.history['val_accuracy']\n",
    "loss_4 = history_4.history['loss']\n",
    "val_loss_4 = history_4.history['val_loss']\n",
    "\n",
    "epochs = range(len(accuracy_4)) # Get number of epochs\n",
    "\n",
    "plt.figure(figsize=(5,4))\n",
    "plt.plot(epochs, loss_4, label = 'training loss')\n",
    "plt.plot(epochs, val_loss_4, label = 'validation loss')\n",
    "plt.legend(loc = 'upper right')\n",
    "plt.title('Training and validation loss')\n"
   ]
  },
  {
   "cell_type": "code",
   "execution_count": null,
   "id": "ca7aecb5",
   "metadata": {},
   "outputs": [],
   "source": [
    "#Observation: From the above plot graph we observe that validation loss is constantly dipped to 0.88%\n",
    "# which can be seen at the last epoch = 20. The validation loss had some fluctuations earlier between the\n",
    "# epochs 2 to 4, however, after epoch = 5 the, validation loss constantly dipped and reduced significantly.\n",
    "# It identifies that selecting the batch size of 16 worked in favour of training the model as if there\n",
    "# would had been more sharp curves in the validation loss then the batch size needs to be reduced so as to control\n",
    "# the fluctuations. However, there are less sharp curves so we come to conclusion that selecting the batch size 16\n",
    "# worked fine for training the model with this Neural Network Architecture."
   ]
  },
  {
   "cell_type": "code",
   "execution_count": 181,
   "id": "3c99b158",
   "metadata": {},
   "outputs": [
    {
     "data": {
      "text/plain": [
       "<Figure size 640x480 with 0 Axes>"
      ]
     },
     "execution_count": 181,
     "metadata": {},
     "output_type": "execute_result"
    },
    {
     "data": {
      "image/png": "[encoded data removed]",
      "text/plain": [
       "<Figure size 500x400 with 1 Axes>"
      ]
     },
     "metadata": {},
     "output_type": "display_data"
    },
    {
     "data": {
      "text/plain": [
       "<Figure size 640x480 with 0 Axes>"
      ]
     },
     "metadata": {},
     "output_type": "display_data"
    }
   ],
   "source": [
    "#plotting training Accuracy and Validation Accuracy\n",
    "\n",
    "plt.figure(figsize=(5,4))\n",
    "plt.plot(epochs, accuracy_4, label = 'training accuracy')\n",
    "plt.plot(epochs, val_accuracy_4, label = 'validation accuracy')\n",
    "plt.title('Training and validation accuracy')\n",
    "plt.legend(loc = 'lower right')\n",
    "plt.figure()"
   ]
  },
  {
   "cell_type": "code",
   "execution_count": null,
   "id": "ad372c8a",
   "metadata": {},
   "outputs": [],
   "source": [
    "#Observation: The validation accuracy achieved is 72.29% whereas\n",
    "# the training accuracy achieved is 72.97%.\n",
    "# From the above plot graph, we observe that the validation accuracy has constantly improved during\n",
    "# the entire training period.\n",
    "# Also, it is observed from the above plot graph that the training accuracy has also constantly improved\n",
    "# during the entire training period which suggests that the Neural Network architecture performed better."
   ]
  },
  {
   "cell_type": "code",
   "execution_count": null,
   "id": "b99a9832",
   "metadata": {},
   "outputs": [],
   "source": []
  }
 ],
 "metadata": {
  "kernelspec": {
   "display_name": "Python 3 (ipykernel)",
   "language": "python",
   "name": "python3"
  },
  "language_info": {
   "codemirror_mode": {
    "name": "ipython",
    "version": 3
   },
   "file_extension": ".py",
   "mimetype": "text/x-python",
   "name": "python",
   "nbconvert_exporter": "python",
   "pygments_lexer": "ipython3",
   "version": "3.10.11"
  }
 },
 "nbformat": 4,
 "nbformat_minor": 5
}
